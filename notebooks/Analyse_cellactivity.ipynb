{
 "cells": [
  {
   "cell_type": "markdown",
   "id": "559defc9-37c6-4b1c-9985-fb71fb7ffcce",
   "metadata": {},
   "source": [
    "# PhotoFiTT: Cell activity analysis\n",
    "\n",
    "The data is assumed to be organised in folders as follows. The Subcategories are the ones that the code uses to display the data. The labels will be identical to the folder name, so the same conditions should always have the same folder name.\n",
    "\n",
    "   ```   \n",
    "   -Raw-images (folder)\n",
    "    |\n",
    "    |--Biological-replica-date-1 (folder) [Subcaegory-00]\n",
    "        |\n",
    "        |--Cell density / UV Ligth / WL 475 light [Subcategory-01] \n",
    "           |\n",
    "           |-- control-condition (folder) [Subcategory-02] \n",
    "           |    |  file1.tif\n",
    "           |    |  file2.tif\n",
    "           |    |  ...\n",
    "           |\n",
    "           |-- condition1 (folder) [Subcategory-02] \n",
    "           |    |  file1.tif\n",
    "           |    |  file2.tif\n",
    "           |    |  ...\n",
    "           |\n",
    "           |-- condition2 (folder) [Subcategory-02] \n",
    "           |    |  file1.tif\n",
    "           |    |  file2.tif\n",
    "           |    |  ...\n",
    "        |\n",
    "        |--Cell density / UV Ligth / WL 475 light [Subcategory-01]\n",
    "        ...\n",
    "   ```"
   ]
  },
  {
   "cell_type": "markdown",
   "id": "8fd0ee24-d6b8-40f7-bd2f-715d4fb77785",
   "metadata": {},
   "source": [
    "## 1. Import required dependencies"
   ]
  },
  {
   "cell_type": "code",
   "execution_count": 1,
   "id": "407840b9-8310-4283-82d2-6c55e1510b40",
   "metadata": {},
   "outputs": [],
   "source": [
    "import os\n",
    "import numpy as np\n",
    "import pandas as pd\n",
    "import photofitt\n",
    "from photofitt import display\n",
    "from photofitt.analysis import extract_activity\n",
    "from photofitt.utils import power_conversion, numerical_dose"
   ]
  },
  {
   "cell_type": "markdown",
   "id": "64cefff5-c12d-4e97-9e48-6002d77bb409",
   "metadata": {},
   "source": [
    "## 2. Set the paths to the data and the output folders\n",
    "- `path2images`: The path where the Raw-images are saved. For example \"/home/ocb/HardDrive_4TB/PHX/SYNCHRO/Raw-images\"\n",
    "- `path2results`: The path where the notebook will save all the results. Once the cell activity is calculated, a CSV file together with the plots will be stored there.\n",
    "- `frame_rate`: The time frame in the videos given in minutes (e.g., `frame_rate = 4`)\n"
   ]
  },
  {
   "cell_type": "code",
   "execution_count": null,
   "id": "d9e62b59-d6f5-4a3a-ba53-1d892de7a2d8",
   "metadata": {},
   "outputs": [],
   "source": [
    "path2images = \n",
    "path2results = \n",
    "frame_rate = 4 \n",
    "\n",
    "## Prepare the directory to save the results\n",
    "os.makedirs(output_path,exist_ok=True)\n",
    "os.makedirs(os.path.join(output_path, \"plots\"), exist_ok=True)\n"
   ]
  },
  {
   "cell_type": "markdown",
   "id": "58faf825-7410-42b9-a9a9-41b06d72e426",
   "metadata": {},
   "source": [
    "## 3. Calculate cell activity.\n",
    "This process can take long hours depending on the number of videos to analyse. If it is already calculated, do not run this cell again and jump to the next step"
   ]
  },
  {
   "cell_type": "code",
   "execution_count": null,
   "id": "2b928c60-157f-4b02-a8fb-50f3c6f12273",
   "metadata": {},
   "outputs": [],
   "source": [
    "images_path = \"/home/ocb/HardDrive_4TB/EGM/PHX/DATA/DOWNSAMPLE/CHO-SYNCHRO/scaled_1.5709_results\"\n",
    "frame_rate = 4 # The time gap we will use to compute all the metrics\n",
    "output_path =  \"/home/ocb/HardDrive_4TB/EGM/PHX/ANALYSIS/SYNCHRO/NEW-ACTIVITY\"\n",
    "## Parameters for activity method estimation\n",
    "method=\"intensity\"\n",
    "\n",
    "activity_metrics = extract_activity(path2images,\n",
    "                                    method=\"intensity\",\n",
    "                                    save_steps=False,\n",
    "                                    enhance_contrast=True,\n",
    "                                    output_path=output_path,\n",
    "                                    condition=None)\n",
    "\n",
    "## Save the results\n",
    "activity_metrics.to_csv(os.path.join(output_path, \"data_activity_intensity.csv\"))"
   ]
  },
  {
   "cell_type": "markdown",
   "id": "a9120caf-0ab5-4d3a-87f4-39b1f1995884",
   "metadata": {},
   "source": [
    "## 4. Analyse cell activity\n"
   ]
  },
  {
   "cell_type": "markdown",
   "id": "a8584c94-5de6-4695-90d9-c7e9f14ce9df",
   "metadata": {},
   "source": [
    "### 4.1 Inspect the cell activity accross time"
   ]
  },
  {
   "cell_type": "code",
   "execution_count": null,
   "id": "a5c35d30-551e-40b5-a1f9-b9ed63e163b6",
   "metadata": {},
   "outputs": [],
   "source": [
    "activity_metrics = pd.read_csv(os.path.join(output_path, \"data_activity_intensity.csv\"))\n",
    "# If the data was organised as indicated, Subcategory-01 corresponds to the wavelength (e.g., 385nm illumination)\n",
    "wavelength = np.unique(activity_metrics[\"Subcategory-01\"])\n",
    "\n",
    "\n",
    "hue=\"Light dose cat\" # It's the variable that corresponds to the light dose (e.g., 60 J/cm2)\n",
    "hue_order = ['0 J/cm2','0.6 J/cm2', '6 J/cm2', '60 J/cm2'] # Establish your own order if needed.\n",
    "ylim = [0.0001, 0.0035] # This is the y-axis limit to plot everything similarly. Addapt it as needed. \n",
    "format_extension = 'pdf' # Format to save the plots.\n",
    "for w in wavelength:\n",
    "    activity_w = activity_metrics[activity_metrics[\"Subcategory-01\"]==w].reset_index(drop=True)    \n",
    "\n",
    "    # Plot the temporal distribution of the activity\n",
    "    y = \"mean activity\" # Variable to display\n",
    "    display.conditions_with_aggregates(activity_w, y,\n",
    "                               f\"Cell activity variance {w}\",\n",
    "                               os.path.join(output_path, \"plots\"),\n",
    "                               f\"activity_variance_{w}.png\",\n",
    "                               hue=hue, \n",
    "                               hue_order=hue_order,\n",
    "                               ylim = ylim)\n",
    "    \n",
    "    ## Plot additive activity\n",
    "    activity_w_dataframe, activity_w = cumulative_activity(activity_w, y, use_starting_point=\"None\", starting_point=0)\n",
    "    \n",
    "    y_var = f\"Cumulative {y}\"\n",
    "    name = \"cell_cumulative_activity_{0}.{1}\".format(w, format_extension)\n",
    "    title = f\"{w}\"\n",
    "    display.conditions(activity_w, y_var, \n",
    "               title, \n",
    "               hue, \n",
    "               os.path.join(output_path, \"plots\"), name, \n",
    "               hue_order=hue_order,\n",
    "               palette=sns.color_palette(\"CMRmap_r\", len(hue_order)) # change the palette if desired\n",
    "               figsize=(4, 5)) # Change the aspect ratio of the figure if desired \n",
    "    "
   ]
  }
 ],
 "metadata": {
  "kernelspec": {
   "display_name": "Python 3 (ipykernel)",
   "language": "python",
   "name": "python3"
  },
  "language_info": {
   "codemirror_mode": {
    "name": "ipython",
    "version": 3
   },
   "file_extension": ".py",
   "mimetype": "text/x-python",
   "name": "python",
   "nbconvert_exporter": "python",
   "pygments_lexer": "ipython3",
   "version": "3.10.0"
  }
 },
 "nbformat": 4,
 "nbformat_minor": 5
}

{
 "cells": [
  {
   "cell_type": "markdown",
   "id": "559defc9-37c6-4b1c-9985-fb71fb7ffcce",
   "metadata": {},
   "source": [
    "# PhotoFiTT: Cell activity analysis\n",
    "\n",
    "Before using this notebook make sure that you have the following:\n",
    "- Raw data from the microscope (or downsampled if the magnification was too big). Note that calculating the cell activity takes a considerable amount of time (> 1h) depending on the length of each video and the size of the images.\n",
    "\n",
    "## Data structure:\n",
    "- Data has to be organised in folders by `replica > illumination condition > light dose`. Alternatively, one could have it for other conditions such as `replica > drug > concentration`. Check the schema as follows.\n",
    "- Each hierarchical level in the data is encoded as `\"Subcategory-XX\"` in the code. The Subcategories are used to display the data analysis results. The labels will be identical to the folder name, so the same conditions should always have the same folder name. For example `WL 475 light` folder name for the folders containing data illuminated with a wavelength of 475 nm in replicas 1 and 2. This applies to all the hierarchical levels.\n",
    "- Alternatively, one could rename these columns using the `pandas dataframe` functionalities in the code.\n",
    "\n",
    "   ```   \n",
    "   -Raw-images (folder)\n",
    "    |\n",
    "    |--Biological-replica-date-1 (folder) [Subcategory-00]\n",
    "        |\n",
    "        |--Cell density / UV Light / WL 475 light [Subcategory-01] \n",
    "           |\n",
    "           |-- control-condition (folder) [Subcategory-02] \n",
    "           |    |  file1.tif\n",
    "           |    |  file2.tif\n",
    "           |    |  ...\n",
    "           |\n",
    "           |-- condition1 (folder) [Subcategory-02] \n",
    "           |    |  file1.tif\n",
    "           |    |  file2.tif\n",
    "           |    |  ...\n",
    "           |\n",
    "           |-- condition2 (folder) [Subcategory-02] \n",
    "           |    |  file1.tif\n",
    "           |    |  file2.tif\n",
    "           |    |  ...\n",
    "        |\n",
    "        |--Cell density / UV Light / WL 475 light [Subcategory-01]\n",
    "        ...\n",
    "   ```\n",
    "## Example data\n",
    "Two types of data are provided to test the notebooks:\n",
    "\n",
    "- A `csv` file to reproduce the plots and results from our study with synchronised cells. When using this, one could skip calculating the  cell activity (Section 1). indicating the correct paths in Section 0, one can directly jump to Section 2.\n",
    "- Example data to start using the notebooks from scratch."
   ]
  },
  {
   "cell_type": "markdown",
   "id": "8fd0ee24-d6b8-40f7-bd2f-715d4fb77785",
   "metadata": {},
   "source": [
    "## 0. Import required dependencies"
   ]
  },
  {
   "cell_type": "code",
   "execution_count": null,
   "id": "407840b9-8310-4283-82d2-6c55e1510b40",
   "metadata": {},
   "outputs": [],
   "source": [
    "import os\n",
    "import numpy as np\n",
    "import pandas as pd\n",
    "import photofitt\n",
    "from photofitt import display\n",
    "from photofitt.analysis import extract_activity, cumulative_activity, estimate_proportional_deviations\n",
    "from photofitt.utils import power_conversion, numerical_dose, stats\n",
    "import seaborn as sns\n",
    "import matplotlib.pyplot as plt\n"
   ]
  },
  {
   "cell_type": "markdown",
   "id": "64cefff5-c12d-4e97-9e48-6002d77bb409",
   "metadata": {},
   "source": [
    "### 0.1. Set the paths to the data and the output folders\n",
    "- `path2images`: The path where the Raw-images are saved. Equivalent to \"Masks (folder)\" in our hierarchy. This folder should contain all the biological replicas and subsequent folders. For example \"/home/ocb/HardDrive_4TB/PHX/SYNCHRO/Raw-images\"\n",
    "- `path2results`: The path where the notebook will save all the results. Once the cell activity is calculated, a CSV file together with the plots will be stored there.\n",
    "- `frame_rate`: The time frame in the videos given in minutes (e.g., one frame every 4 minutes equals `frame_rate = 4`)\n"
   ]
  },
  {
   "cell_type": "code",
   "execution_count": null,
   "id": "d9e62b59-d6f5-4a3a-ba53-1d892de7a2d8",
   "metadata": {},
   "outputs": [],
   "source": [
    "path2images = \"/Users/esti/Library/CloudStorage/OneDrive-igc.gulbenkian.pt/Manuscript - PhotoFiTT/Manuscript - PhotoFiTT/PAPER/example-data-github/example-data-notebooks/downsample_data\"\n",
    "path2results = \"/Users/esti/Documents/PROYECTOS/PHX/PhotoFiTT/example-data\"\n",
    "frame_rate = 4 \n",
    "\n",
    "## Prepare the directory to save the results\n",
    "os.makedirs(path2results,exist_ok=True)\n",
    "os.makedirs(os.path.join(path2results, \"plots\"), exist_ok=True)\n"
   ]
  },
  {
   "cell_type": "markdown",
   "id": "58faf825-7410-42b9-a9a9-41b06d72e426",
   "metadata": {},
   "source": [
    "## 1. Calculate cell activity.\n",
    "This process can take a long time (hours) depending on the number of videos to analyse. If it is already calculated, do not run this cell again and jump to the next step"
   ]
  },
  {
   "cell_type": "code",
   "execution_count": null,
   "id": "2b928c60-157f-4b02-a8fb-50f3c6f12273",
   "metadata": {},
   "outputs": [],
   "source": [
    "activity_metrics = extract_activity(path2images,\n",
    "                                    method=\"intensity\",\n",
    "                                    save_steps=False,\n",
    "                                    enhance_contrast=True,\n",
    "                                    output_path=path2results,\n",
    "                                    frame_rate=frame_rate,\n",
    "                                    condition=None)\n",
    "\n",
    "## Save the results\n",
    "activity_metrics.to_csv(os.path.join(path2results, \"data_activity_intensity.csv\"))"
   ]
  },
  {
   "cell_type": "markdown",
   "id": "a9120caf-0ab5-4d3a-87f4-39b1f1995884",
   "metadata": {},
   "source": [
    "## 2. Analyse cell activity\n"
   ]
  },
  {
   "cell_type": "markdown",
   "id": "a8584c94-5de6-4695-90d9-c7e9f14ce9df",
   "metadata": {},
   "source": [
    "### 2.1 Inspect the cell activity across time\n",
    "- `hue`: Choose the data level (or condition) to display the data. For example `\"Subcategory-02\"`\n",
    "- `hue_order`: Indicate the order of the conditions in which the data should be displayed. For example `\"['0 jcm2', '6 jcm2', '60 jcm2']\"`. To recover the conditions available in the data, you can run `np.unique(activity_metrics[\"Subcategory-02\"])`.\n",
    "- `y_lim`: The boundary limits to display all the data in the same interval. For example `[0.0001, 0.0035]`.\n",
    "- `format_extension`: Whether to save the plots as pdf (`\"pdf\"`) or PNG (`\"png\"`)."
   ]
  },
  {
   "cell_type": "code",
   "execution_count": null,
   "id": "a5c35d30-551e-40b5-a1f9-b9ed63e163b6",
   "metadata": {},
   "outputs": [],
   "source": [
    "activity_metrics = pd.read_csv(os.path.join(path2results, \"data_activity_intensity.csv\"))\n",
    "#activity_metrics = pd.read_csv(os.path.join(path2results, \"data_activity_intensity_clean.csv\"))\n",
    "\n",
    "# If the data was organised as indicated, Subcategory-01 corresponds to the wavelength (e.g., 385nm illumination)\n",
    "wavelength = np.unique(activity_metrics[\"Subcategory-01\"])\n",
    "\n",
    "hue=\"Subcategory-02\" # It's the variable that corresponds to the light dose (e.g., 60 J/cm2)\n",
    "hue_order = ['0 jcm2', '6 jcm2', '60 jcm2'] # Establish your own order if needed.\n",
    "#hue_order = ['Control-sync', 'Synchro', '06-widefield', '06-confocal']\n",
    "#hue_order = [ 'Synchro', '100ms', '01sec', '10sec']\n",
    "ylim = [0.0001, 0.0035] # This is the y-axis limit to plot everything similarly. Addapt it as needed. \n",
    "format_extension = 'pdf' # Format to save the plots.\n",
    "\n",
    "for w in wavelength:\n",
    "    activity_w = activity_metrics[activity_metrics[\"Subcategory-01\"]==w].reset_index(drop=True)    \n",
    "\n",
    "    # Plot the temporal distribution of the activity\n",
    "    y = \"mean activity\" # Variable to display\n",
    "    display.conditions_with_aggregates(activity_w, y,\n",
    "                               f\"Cell activity variance {w}\",\n",
    "                               os.path.join(path2results, \"plots\"),\n",
    "                               f\"activity_variance_{w}.png\",\n",
    "                               hue=hue, \n",
    "                               hue_order=hue_order,\n",
    "                               ylim = ylim)\n",
    "    \n",
    "    ## Plot additive activity\n",
    "    activity_w_dataframe, activity_w = cumulative_activity(activity_w, y, use_starting_point=\"None\", starting_point=0)\n",
    "    \n",
    "    y_var = f\"Cumulative {y}\"\n",
    "    name = \"cell_cumulative_activity_{0}.{1}\".format(w, format_extension)\n",
    "    title = f\"{w}\"\n",
    "    display.conditions(activity_w, y_var, \n",
    "                       title, \n",
    "                       hue,\n",
    "                       os.path.join(path2results, \"plots\"),\n",
    "                       name, \n",
    "                       hue_order=hue_order,\n",
    "                       palette=sns.color_palette(\"CMRmap_r\", len(hue_order)), # change the palette if desired\n",
    "                       figsize=(4, 5)) # Change the aspect ratio of the figure if desired \n",
    "    "
   ]
  },
  {
   "cell_type": "markdown",
   "id": "96e65dec-9f08-40a7-b05d-bfd726756a9d",
   "metadata": {},
   "source": [
    "### 2.2 Display the cummulative cell activity at a specific timepoint\n",
    "- `t`: The time-point at which the differences in activity will be evaluated, in the same unit as the frame_rate given (e.g., minutes)\n",
    "- `variable`: The variable for which the proportional differences will be calculated. In our case it was `'Cumulative mean activity'`.\n",
    "- `grouping_variable`: The differences are calculated on average by replica (the grouping variable). In our case, following the data structure, it should be `\"Subcategory-00\"`.\n",
    "- `reference_variable`: The variable in the data-frame that encodes the conditions and that will be displayed. In our case, it is `\"Subcategory-02\"`.\n",
    "- `reference_category`: The reference condition used to calculate the differences. In our case, it is the control `'0 J/cm2'`.\n",
    "- `unique_id_var`: We use it to identify individual videos and get statistics across them. In our case, it is `\"video_name\"`.\n",
    "- `add_columns`: List of the columns from the original dataset that we want to preserve in the new `activity_diff` data frame.\n",
    "- `wl_order`: Indicate the order in which the columns of the composed plot will be displayed. In our case, it is the Wavelength chosen. For example: `['WL UV - high density', 'WL 475 - high density', 'WL 630 - high density'] `. One could alternatively choose another one. Run `np.unique(activity_metrics[\"Subcategory-01\"])` to know the choices. \n",
    "- `hue_order`: Indicate the order of the conditions in which the data should be displayed. For example `\"['0 jcm2', '6 jcm2', '60 jcm2']\"`. To recover the conditions available in the data, you can run `np.unique(activity_metrics[\"Subcategory-02\"])`.\n",
    "- `y_lim`: The boundary limits to display all the data in the same interval. For example `[-25, 100]`.\n",
    "- `format_extension`: Whether to save the plots as pdf (`\"pdf\"`) or PNG (`\"png\"`)."
   ]
  },
  {
   "cell_type": "code",
   "execution_count": null,
   "id": "e884537d-2b74-4425-8f39-718949eadac6",
   "metadata": {},
   "outputs": [],
   "source": [
    "t = 420\n",
    "#activity_metrics = pd.read_csv(os.path.join(path2results, \"data_activity_intensity_clean.csv\"))\n",
    "activity_metrics = pd.read_csv(os.path.join(path2results, \"data_activity_intensity.csv\"))\n",
    "## Calculate the cumulative cell activity\n",
    "y = \"mean activity\"\n",
    "activity_dataframe, activity = cumulative_activity(activity_metrics, y, use_starting_point=\"None\")\n",
    "### Filter out the data for a specfic timepoint t.\n",
    "activity = activity.loc[lambda activity: activity[\"frame\"]==t]\n",
    "\n",
    "variable = 'Cumulative mean activity'\n",
    "grouping_variable=\"Subcategory-00\"\n",
    "reference_category='0 jcm2'#'Synchro'\n",
    "reference_variable=\"Subcategory-02\"\n",
    "unique_id_var = \"video_name\"\n",
    "add_columns = [\"Subcategory-01\"]\n",
    "## Calculate the deviations in cell activity\n",
    "activity_diff = estimate_proportional_deviations(activity,\n",
    "                                                 variable,\n",
    "                                                 reference_category=reference_category,\n",
    "                                                 reference_variable=reference_variable,\n",
    "                                                 unique_id_var=unique_id_var,\n",
    "                                                 grouping_variable=grouping_variable,\n",
    "                                                 add_columns=add_columns) ## add\n",
    "\n",
    "\n",
    "\n",
    "\n",
    "palette_colours = ['#BC77F8', '#30C7A6', '#FF7848'] # colors for the wavelengths\n",
    "wl_order = ['WL UV - high density', 'WL 475 - high density', 'WL 630 - high density'] # Column order in the plot, corresponding to the wavelengths\n",
    "wl_column = \"Subcategory-01\" # Name of the category to consider when plotting the columns.\n",
    "hue_order = ['0 jcm2', '0.6 jcm2', '6 jcm2','60 jcm2'] # Order in which the conditions will be displayed.\n",
    "#hue_order = ['Control-sync', 'Synchro', '06-widefield', '06-confocal']\n",
    "#hue_order = ['Synchro', 'MitoRed', 'MitoGreen', 'Synchro_475', 'MitoRed_475', 'MitoGreen_475']\n",
    "#hue_order = [ 'Synchro', '100ms', '01sec', '10sec']\n",
    "y_lim = [-250, 100] # Choose the y-axis limits in the plot\n",
    "format_extension = \"pdf\" # Choose between \"pdf\" and \"png\"\n",
    "\n",
    "# ------------------------\n",
    "# PLOT: Proportional differences\n",
    "# ------------------------\n",
    "g = sns.catplot(\n",
    "    activity_diff, kind=\"bar\",\n",
    "    x=reference_variable, \n",
    "    y=f\"proportional_difference_per_{unique_id_var}\",\n",
    "    col=wl_column,\n",
    "    hue=wl_column,\n",
    "    order=hue_order,\n",
    "    col_order=wl_order,\n",
    "    palette=palette_colours,\n",
    "    errorbar=(\"ci\", 95),  capsize=.08, linewidth=0.5,\n",
    "    hue_order=wl_order, legend=False\n",
    ")\n",
    "g.map_dataframe(sns.stripplot,\n",
    "            x=reference_variable,\n",
    "            y=f\"proportional_difference_per_{unique_id_var}\",\n",
    "            order=hue_order,\n",
    "            jitter=True,\n",
    "            dodge=False,\n",
    "            marker='.',\n",
    "            color=\"gray\",\n",
    "            alpha=1)\n",
    "plt.tight_layout()\n",
    "g.fig.get_axes()[-1].legend(loc='upper right')\n",
    "g.set(xlabel=\"Time [min]\", ylabel=f\"proportional difference [t={t}min]\", ylim=y_lim)\n",
    "g.set_titles(\"{col_name}\")\n",
    "g.savefig(os.path.join(path2results, \"plots\", f\"barplots_{variable}_differences_t{t}.{format_extension}\"), format=format_extension, transparent=True)\n",
    "plt.show()\n",
    "\n",
    "# ------------------------\n",
    "# PLOT: Average activity\n",
    "# ------------------------\n",
    "hue_order = ['0 jcm2', '6 jcm2', '60 jcm2'] # Order in which the conditions will be displayed.\n",
    "#hue_order = ['Control-sync', 'Synchro', '06-widefield', '06-confocal']\n",
    "#hue_order = ['Synchro', 'MitoRed', 'MitoGreen', 'MitoRed_475', 'MitoGreen_475']\n",
    "#hue_order = ['Synchro', '100ms', '01sec', '10sec']\n",
    "g = sns.catplot(\n",
    "    activity_diff, kind=\"bar\",\n",
    "    x=reference_variable, y=f\"normalised_mean_per_video_name_wrt_{reference_category}\",\n",
    "    col=wl_column,\n",
    "    hue=wl_column,\n",
    "    #height=10, aspect=1,\n",
    "    order=hue_order,\n",
    "    col_order=wl_order,\n",
    "    palette=palette_colours,\n",
    "    errorbar=(\"ci\", 95),  capsize=.08, linewidth=0.5,\n",
    "    hue_order=wl_order, \n",
    "    legend=False\n",
    ")\n",
    "g.map_dataframe(sns.stripplot,\n",
    "        x=reference_variable,\n",
    "        y=f\"normalised_mean_per_video_name_wrt_{reference_category}\",\n",
    "        #hue=\"Subcategory-00\",\n",
    "        order=hue_order,\n",
    "        jitter=True,\n",
    "        dodge=False,\n",
    "        #palette=palette_colours,\n",
    "        marker='.',\n",
    "        color=\"gray\",\n",
    "        alpha=1)\n",
    "plt.tight_layout()\n",
    "plt.yscale('log')\n",
    "g.fig.get_axes()[-1].legend(loc='upper left')\n",
    "g.set_xticklabels(rotation=45)\n",
    "g.set(xlabel=\"Time [min]\", ylabel=f\"normalised_mean_per_video_name_wrt_{reference_category} at t={t}\", yscale=\"log\")\n",
    "g.set_titles(\"{col_name}\")\n",
    "g.savefig(os.path.join(path2results, \"plots\", f\"barplots_normalised_{variable}_t{t}.{format_extension}\"), format=format_extension, transparent=True)\n",
    "\n",
    "plt.show()"
   ]
  },
  {
   "cell_type": "markdown",
   "id": "dc5850c3-2c7f-4175-8ac9-7a0d490cbd7c",
   "metadata": {},
   "source": [
    "### 2.3 Obtain basic statistics\n"
   ]
  },
  {
   "cell_type": "markdown",
   "id": "c77723a4-afdb-401c-84fd-5955068c077e",
   "metadata": {},
   "source": [
    "#### Mean values"
   ]
  },
  {
   "cell_type": "code",
   "execution_count": null,
   "id": "ef71dc6a-66b3-4f5e-b594-f16126ae438a",
   "metadata": {},
   "outputs": [],
   "source": [
    "activity_diff.groupby([\"Subcategory-01\", \"Subcategory-02\"]).mean()"
   ]
  },
  {
   "cell_type": "markdown",
   "id": "ad465051-676d-48f4-aa00-f3e6906baca9",
   "metadata": {},
   "source": [
    "#### Standard deviation values"
   ]
  },
  {
   "cell_type": "code",
   "execution_count": null,
   "id": "17ddf950-d452-48cb-aef0-d82961bd0bfd",
   "metadata": {},
   "outputs": [],
   "source": [
    "activity_diff.groupby([\"Subcategory-01\", \"Subcategory-02\"]).std()"
   ]
  },
  {
   "cell_type": "markdown",
   "id": "c688e8da-61dc-4f18-953b-e749026eb8c4",
   "metadata": {},
   "source": [
    "#### Compute statistical tests\n",
    "\n",
    "- `df`: pandas DataFrame containing the data\n",
    "- `quantitative_column`: Name of the column containing the quantitative data to analyze\n",
    "- `main_grouping`: Name of the column defining the main groups\n",
    "- `subgrouping`: Name of the column defining the subgroups to compare\n",
    "- `test_type`: \n",
    "  - \"t-test\": When both groups are normally distributed and have equal variances.\n",
    "  - \"Welch's t-test\": When both groups are normally distributed and have unequal variances.\n",
    "  - \"Kolmogorov-Smirnov\": When at least one of the variables is not normally distributed. \n",
    "- `choose_statistical_test`: \n",
    "  - `\"Automatic\"` if you want to run an automatic testing based on assessed properties of the data distribution. \n",
    "  - `\"Manual\"` to manually indicate what test to run."
   ]
  },
  {
   "cell_type": "code",
   "execution_count": null,
   "id": "ac837469-d7f9-40ca-b04f-e3cf219e3e3d",
   "metadata": {},
   "outputs": [],
   "source": [
    "quantitative_column = f\"normalised_mean_per_video_name_wrt_{reference_category}\"\n",
    "main_grouping = 'Subcategory-01'\n",
    "subgrouping = 'Subcategory-02'\n",
    "test_type = \"Kolmogorov-Smirnov\"\n",
    "result = stats.perform_statistical_analysis(activity_diff,\n",
    "                                      quantitative_column,\n",
    "                                      main_grouping,\n",
    "                                      subgrouping,\n",
    "                                      test_type=\"Kolmogorov-Smirnov\",\n",
    "                                     choose_test=\"Manual\")\n",
    "stats.plot_data_distributions(activity_diff, quantitative_column, main_grouping, subgrouping)\n",
    "result"
   ]
  },
  {
   "cell_type": "code",
   "execution_count": null,
   "id": "4f0ae30e-35e9-4b65-9777-8e7ea1f7a03f",
   "metadata": {},
   "outputs": [],
   "source": []
  }
 ],
 "metadata": {
  "kernelspec": {
   "display_name": "Python 3 (ipykernel)",
   "language": "python",
   "name": "python3"
  },
  "language_info": {
   "codemirror_mode": {
    "name": "ipython",
    "version": 3
   },
   "file_extension": ".py",
   "mimetype": "text/x-python",
   "name": "python",
   "nbconvert_exporter": "python",
   "pygments_lexer": "ipython3",
   "version": "3.10.0"
  }
 },
 "nbformat": 4,
 "nbformat_minor": 5
}

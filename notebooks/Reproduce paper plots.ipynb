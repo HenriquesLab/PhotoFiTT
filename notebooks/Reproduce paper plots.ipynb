{
 "cells": [
  {
   "cell_type": "markdown",
   "id": "956d28ae",
   "metadata": {},
   "source": [
    "## Load dependencies"
   ]
  },
  {
   "cell_type": "code",
   "execution_count": 1,
   "id": "6e636570",
   "metadata": {},
   "outputs": [],
   "source": [
    "import os\n",
    "import numpy as np\n",
    "import pandas as pd\n",
    "import photofitt\n",
    "from photofitt import display\n",
    "from photofitt.analysis import quantify_peaks, cumulative_activity\n",
    "\n",
    "import seaborn as sns\n",
    "import matplotlib.pyplot as plt"
   ]
  },
  {
   "cell_type": "code",
   "execution_count": 2,
   "id": "e34c2486",
   "metadata": {},
   "outputs": [
    {
     "name": "stdout",
     "output_type": "stream",
     "text": [
      "95348\n"
     ]
    }
   ],
   "source": [
    "# Load UV mitosis data:\n",
    "folder = \"/Users/esti/Documents/PROYECTOS/PHX/DOCS/MANUSCRIPT/CODE/\"\n",
    "path_data = os.path.join(folder, \"data/mitosis_CHO_UV_clean.csv\")\n",
    "data = pd.read_csv(path_data)\n",
    "print(len(data))\n",
    "\n",
    "# Change the name of exposure times\n",
    "Con = [c for c in np.unique(data[\"Subcategory-02\"]) if c.__contains__(\"UV\")]\n",
    "\n",
    "for i in Con:\n",
    "    new_condition_name = i.split(\"UV\")[1]\n",
    "    data[\"Subcategory-02\"][data[\"Subcategory-02\"]==i] = new_condition_name\n",
    "## Choose a path to store the data:\n",
    "output_path = folder"
   ]
  },
  {
   "cell_type": "code",
   "execution_count": 3,
   "id": "e58e7fd2",
   "metadata": {},
   "outputs": [],
   "source": [
    "#new_data = pd.read_csv(\"/Users/esti/Documents/PROYECTOS/PHX/mitosis_mediated_data_itqb_3/CHO/results/scaled_1.5709_results/new-data/mitosis_counting.csv\")\n",
    "#new_data = new_data.rename(columns={'mitosis': 'Number of cells', \n",
    "#                            'mitosis_normalised': 'Norm. Number of cells'})\n",
    "#index = new_data[new_data['frame'].isnull()].index.to_list()\n",
    "#for i in index:\n",
    "#    new_data['frame'].iloc[i]=0\n",
    "#index_new_data = new_data.index.to_list()\n",
    "\n",
    "#index_new = [i for i in index_new_data if i not in index]\n",
    "#print(index_new)\n",
    "\n",
    "#for i in index_new:\n",
    "#    new_data['frame'].iloc[i]=4*(len(new_data['frame'].iloc[i]))\n",
    "                                 \n",
    "#new_datadata\n",
    "#new_data.to_csv(\"/Users/esti/Documents/PROYECTOS/PHX/mitosis_mediated_data_itqb_3/CHO/results/scaled_1.5709_results/new-data/mitosis_counting.csv\")\n",
    "\n",
    "#Con = [c for c in np.unique(data[\"Subcategory-02\"]) if c.__contains__(\"UV\")]\n",
    "#print(Con)\n",
    "\n",
    "#for i in Con:\n",
    "#    new_condition_name = i.split(\"UV\")[1]\n",
    "#    data[\"Subcategory-02\"][data[\"Subcategory-02\"]==i] = new_condition_name\n",
    "    \n",
    "#print(data)\n"
   ]
  },
  {
   "cell_type": "markdown",
   "id": "d10833bc",
   "metadata": {},
   "source": [
    "## Estimation of cell densities for each field of view\n",
    "\n",
    "Each well is 9.3 X 8.7 mm. Each FOV (the one in the final images) is 660 X 660 microns\n",
    "\n",
    "- Area of each well: 80.91 mm^2\n",
    "- Area of each FOV: 0.4356 mm ^2\n",
    "- Total # of cells per well: 40000 per well\n",
    "- Total# of cells per FOV: 215.35\n"
   ]
  },
  {
   "cell_type": "code",
   "execution_count": 4,
   "id": "3db18840",
   "metadata": {},
   "outputs": [
    {
     "name": "stdout",
     "output_type": "stream",
     "text": [
      "134.59399332591772\n"
     ]
    }
   ],
   "source": [
    "light_power = 6.255662\n",
    "well_area = 80.91\n",
    "cell_density = 25000\n",
    "fov_area = 660\n",
    "fov_mm = (fov_area*0.001)**2\n",
    "cell_mm = cell_density / well_area\n",
    "cell_fov = cell_mm * fov_mm\n",
    "print(cell_fov)"
   ]
  },
  {
   "cell_type": "code",
   "execution_count": 5,
   "id": "cd8fe7a6",
   "metadata": {},
   "outputs": [],
   "source": [
    "# Estimate the ligth dose\n",
    "data = photofitt.utils.numerical_dose(data, column_name=\"Subcategory-02\", power=light_power)\n",
    "\n",
    "## Generate categorical variables for the light dose\n",
    "light_dose = np.unique(data[\"Light dose\"])\n",
    "data[\"Light dose cat\"] = ''\n",
    "for l in light_dose:\n",
    "    if l > 0:\n",
    "        cat = np.str(np.round(l, decimals=1)) + \" J/cm2\"\n",
    "    else:\n",
    "        cat = 'non-synchro-0 J/cm2'\n",
    "    \n",
    "    data[\"Light dose cat\"][data[\"Light dose\"]==l] = cat\n",
    "data[\"Light dose cat\"][data[\"Subcategory-02\"]==\"Synchro\"] = '0 J/cm2'\n",
    "hue_order = ['non-synchro-0 J/cm2', '0 J/cm2', '0.2 J/cm2',\n",
    "             '0.3 J/cm2', '0.6 J/cm2', '1.3 J/cm2', '2.5 J/cm2',\n",
    "             '5.0 J/cm2', '6.3 J/cm2', '31.3 J/cm2', \n",
    "             '62.6 J/cm2', '93.8 J/cm2', '125.1 J/cm2', '156.4 J/cm2']"
   ]
  },
  {
   "cell_type": "code",
   "execution_count": 6,
   "id": "a6ee3db0",
   "metadata": {
    "scrolled": true
   },
   "outputs": [
    {
     "ename": "ValueError",
     "evalue": "Could not interpret value `None` for parameter `style`",
     "output_type": "error",
     "traceback": [
      "\u001b[0;31m---------------------------------------------------------------------------\u001b[0m",
      "\u001b[0;31mValueError\u001b[0m                                Traceback (most recent call last)",
      "Cell \u001b[0;32mIn[6], line 27\u001b[0m\n\u001b[1;32m     25\u001b[0m format_extension \u001b[38;5;241m=\u001b[39m \u001b[38;5;124m'\u001b[39m\u001b[38;5;124mpdf\u001b[39m\u001b[38;5;124m'\u001b[39m\n\u001b[1;32m     26\u001b[0m name \u001b[38;5;241m=\u001b[39m \u001b[38;5;124m\"\u001b[39m\u001b[38;5;132;01m{0}\u001b[39;00m\u001b[38;5;124m_\u001b[39m\u001b[38;5;132;01m{1}\u001b[39;00m\u001b[38;5;124m.\u001b[39m\u001b[38;5;132;01m{2}\u001b[39;00m\u001b[38;5;124m\"\u001b[39m\u001b[38;5;241m.\u001b[39mformat(plot_y_var, g, f)\n\u001b[0;32m---> 27\u001b[0m \u001b[43mdisplay\u001b[49m\u001b[38;5;241;43m.\u001b[39;49m\u001b[43mconditions\u001b[49m\u001b[43m(\u001b[49m\u001b[43mploting_data\u001b[49m\u001b[43m,\u001b[49m\u001b[43m \u001b[49m\u001b[43mplot_y_var\u001b[49m\u001b[43m,\u001b[49m\u001b[43m \u001b[49m\u001b[43mtitle\u001b[49m\u001b[43m,\u001b[49m\u001b[43m \u001b[49m\u001b[43mcondition\u001b[49m\u001b[43m,\u001b[49m\u001b[43m \u001b[49m\u001b[43moutput_path\u001b[49m\u001b[43m,\u001b[49m\u001b[43m \u001b[49m\u001b[43mname\u001b[49m\u001b[43m,\u001b[49m\n\u001b[1;32m     28\u001b[0m \u001b[43m                \u001b[49m\u001b[43mhue_order\u001b[49m\u001b[38;5;241;43m=\u001b[39;49m\u001b[43mhue_order\u001b[49m\u001b[43m,\u001b[49m\u001b[43m \u001b[49m\u001b[43mpalette\u001b[49m\u001b[38;5;241;43m=\u001b[39;49m\u001b[43msns\u001b[49m\u001b[38;5;241;43m.\u001b[39;49m\u001b[43mcolor_palette\u001b[49m\u001b[43m(\u001b[49m\u001b[38;5;124;43m\"\u001b[39;49m\u001b[38;5;124;43mCMRmap_r\u001b[39;49m\u001b[38;5;124;43m\"\u001b[39;49m\u001b[43m,\u001b[49m\u001b[43m \u001b[49m\u001b[38;5;241;43m17\u001b[39;49m\u001b[43m)\u001b[49m\u001b[43m)\u001b[49m\n",
      "File \u001b[0;32m~/mambaforge/envs/photofitt/lib/python3.9/site-packages/photofitt/display/plots.py:83\u001b[0m, in \u001b[0;36mconditions\u001b[0;34m(data, y_var, title, condition, output_path, name, style, hue_order, palette, figsize)\u001b[0m\n\u001b[1;32m     80\u001b[0m         sns\u001b[38;5;241m.\u001b[39mlineplot(x\u001b[38;5;241m=\u001b[39m\u001b[38;5;124m\"\u001b[39m\u001b[38;5;124mframe\u001b[39m\u001b[38;5;124m\"\u001b[39m, y\u001b[38;5;241m=\u001b[39my_var, hue\u001b[38;5;241m=\u001b[39mcondition, data\u001b[38;5;241m=\u001b[39mdata,\n\u001b[1;32m     81\u001b[0m                      palette\u001b[38;5;241m=\u001b[39mpalette, linewidth\u001b[38;5;241m=\u001b[39m\u001b[38;5;241m1.5\u001b[39m, alpha\u001b[38;5;241m=\u001b[39m\u001b[38;5;241m0.75\u001b[39m, hue_order\u001b[38;5;241m=\u001b[39mhue_order)\n\u001b[1;32m     82\u001b[0m     \u001b[38;5;28;01melse\u001b[39;00m:\n\u001b[0;32m---> 83\u001b[0m         \u001b[43msns\u001b[49m\u001b[38;5;241;43m.\u001b[39;49m\u001b[43mlineplot\u001b[49m\u001b[43m(\u001b[49m\u001b[43mx\u001b[49m\u001b[38;5;241;43m=\u001b[39;49m\u001b[38;5;124;43m\"\u001b[39;49m\u001b[38;5;124;43mframe\u001b[39;49m\u001b[38;5;124;43m\"\u001b[39;49m\u001b[43m,\u001b[49m\u001b[43m \u001b[49m\u001b[43my\u001b[49m\u001b[38;5;241;43m=\u001b[39;49m\u001b[43my_var\u001b[49m\u001b[43m,\u001b[49m\u001b[43m \u001b[49m\u001b[43mhue\u001b[49m\u001b[38;5;241;43m=\u001b[39;49m\u001b[43mcondition\u001b[49m\u001b[43m,\u001b[49m\u001b[43m \u001b[49m\u001b[43mstyle\u001b[49m\u001b[38;5;241;43m=\u001b[39;49m\u001b[43mstyle\u001b[49m\u001b[43m,\u001b[49m\u001b[43m \u001b[49m\u001b[43mdata\u001b[49m\u001b[38;5;241;43m=\u001b[39;49m\u001b[43mdata\u001b[49m\u001b[43m,\u001b[49m\n\u001b[1;32m     84\u001b[0m \u001b[43m                     \u001b[49m\u001b[43mpalette\u001b[49m\u001b[38;5;241;43m=\u001b[39;49m\u001b[43mpalette\u001b[49m\u001b[43m,\u001b[49m\u001b[43m \u001b[49m\u001b[43mlinewidth\u001b[49m\u001b[38;5;241;43m=\u001b[39;49m\u001b[38;5;241;43m1.5\u001b[39;49m\u001b[43m,\u001b[49m\u001b[43m \u001b[49m\u001b[43malpha\u001b[49m\u001b[38;5;241;43m=\u001b[39;49m\u001b[38;5;241;43m0.75\u001b[39;49m\u001b[43m,\u001b[49m\u001b[43m \u001b[49m\u001b[43mhue_order\u001b[49m\u001b[38;5;241;43m=\u001b[39;49m\u001b[43mhue_order\u001b[49m\u001b[43m)\u001b[49m\n\u001b[1;32m     85\u001b[0m plt\u001b[38;5;241m.\u001b[39mxlabel(\u001b[38;5;124m\"\u001b[39m\u001b[38;5;124mTime (min)\u001b[39m\u001b[38;5;124m\"\u001b[39m)\n\u001b[1;32m     86\u001b[0m plt\u001b[38;5;241m.\u001b[39myscale(\u001b[38;5;124m\"\u001b[39m\u001b[38;5;124mlinear\u001b[39m\u001b[38;5;124m\"\u001b[39m)\n",
      "File \u001b[0;32m~/mambaforge/envs/photofitt/lib/python3.9/site-packages/seaborn/relational.py:618\u001b[0m, in \u001b[0;36mlineplot\u001b[0;34m(data, x, y, hue, size, style, units, palette, hue_order, hue_norm, sizes, size_order, size_norm, dashes, markers, style_order, estimator, errorbar, n_boot, seed, orient, sort, err_style, err_kws, legend, ci, ax, **kwargs)\u001b[0m\n\u001b[1;32m    615\u001b[0m errorbar \u001b[38;5;241m=\u001b[39m _deprecate_ci(errorbar, ci)\n\u001b[1;32m    617\u001b[0m variables \u001b[38;5;241m=\u001b[39m _LinePlotter\u001b[38;5;241m.\u001b[39mget_semantics(\u001b[38;5;28mlocals\u001b[39m())\n\u001b[0;32m--> 618\u001b[0m p \u001b[38;5;241m=\u001b[39m \u001b[43m_LinePlotter\u001b[49m\u001b[43m(\u001b[49m\n\u001b[1;32m    619\u001b[0m \u001b[43m    \u001b[49m\u001b[43mdata\u001b[49m\u001b[38;5;241;43m=\u001b[39;49m\u001b[43mdata\u001b[49m\u001b[43m,\u001b[49m\u001b[43m \u001b[49m\u001b[43mvariables\u001b[49m\u001b[38;5;241;43m=\u001b[39;49m\u001b[43mvariables\u001b[49m\u001b[43m,\u001b[49m\n\u001b[1;32m    620\u001b[0m \u001b[43m    \u001b[49m\u001b[43mestimator\u001b[49m\u001b[38;5;241;43m=\u001b[39;49m\u001b[43mestimator\u001b[49m\u001b[43m,\u001b[49m\u001b[43m \u001b[49m\u001b[43mn_boot\u001b[49m\u001b[38;5;241;43m=\u001b[39;49m\u001b[43mn_boot\u001b[49m\u001b[43m,\u001b[49m\u001b[43m \u001b[49m\u001b[43mseed\u001b[49m\u001b[38;5;241;43m=\u001b[39;49m\u001b[43mseed\u001b[49m\u001b[43m,\u001b[49m\u001b[43m \u001b[49m\u001b[43merrorbar\u001b[49m\u001b[38;5;241;43m=\u001b[39;49m\u001b[43merrorbar\u001b[49m\u001b[43m,\u001b[49m\n\u001b[1;32m    621\u001b[0m \u001b[43m    \u001b[49m\u001b[43msort\u001b[49m\u001b[38;5;241;43m=\u001b[39;49m\u001b[43msort\u001b[49m\u001b[43m,\u001b[49m\u001b[43m \u001b[49m\u001b[43morient\u001b[49m\u001b[38;5;241;43m=\u001b[39;49m\u001b[43morient\u001b[49m\u001b[43m,\u001b[49m\u001b[43m \u001b[49m\u001b[43merr_style\u001b[49m\u001b[38;5;241;43m=\u001b[39;49m\u001b[43merr_style\u001b[49m\u001b[43m,\u001b[49m\u001b[43m \u001b[49m\u001b[43merr_kws\u001b[49m\u001b[38;5;241;43m=\u001b[39;49m\u001b[43merr_kws\u001b[49m\u001b[43m,\u001b[49m\n\u001b[1;32m    622\u001b[0m \u001b[43m    \u001b[49m\u001b[43mlegend\u001b[49m\u001b[38;5;241;43m=\u001b[39;49m\u001b[43mlegend\u001b[49m\u001b[43m,\u001b[49m\n\u001b[1;32m    623\u001b[0m \u001b[43m\u001b[49m\u001b[43m)\u001b[49m\n\u001b[1;32m    625\u001b[0m p\u001b[38;5;241m.\u001b[39mmap_hue(palette\u001b[38;5;241m=\u001b[39mpalette, order\u001b[38;5;241m=\u001b[39mhue_order, norm\u001b[38;5;241m=\u001b[39mhue_norm)\n\u001b[1;32m    626\u001b[0m p\u001b[38;5;241m.\u001b[39mmap_size(sizes\u001b[38;5;241m=\u001b[39msizes, order\u001b[38;5;241m=\u001b[39msize_order, norm\u001b[38;5;241m=\u001b[39msize_norm)\n",
      "File \u001b[0;32m~/mambaforge/envs/photofitt/lib/python3.9/site-packages/seaborn/relational.py:365\u001b[0m, in \u001b[0;36m_LinePlotter.__init__\u001b[0;34m(self, data, variables, estimator, n_boot, seed, errorbar, sort, orient, err_style, err_kws, legend)\u001b[0m\n\u001b[1;32m    351\u001b[0m \u001b[38;5;28;01mdef\u001b[39;00m \u001b[38;5;21m__init__\u001b[39m(\n\u001b[1;32m    352\u001b[0m     \u001b[38;5;28mself\u001b[39m, \u001b[38;5;241m*\u001b[39m,\n\u001b[1;32m    353\u001b[0m     data\u001b[38;5;241m=\u001b[39m\u001b[38;5;28;01mNone\u001b[39;00m, variables\u001b[38;5;241m=\u001b[39m{},\n\u001b[0;32m   (...)\u001b[0m\n\u001b[1;32m    359\u001b[0m     \u001b[38;5;66;03m# the kind of plot to draw, but for the time being we need to set\u001b[39;00m\n\u001b[1;32m    360\u001b[0m     \u001b[38;5;66;03m# this information so the SizeMapping can use it\u001b[39;00m\n\u001b[1;32m    361\u001b[0m     \u001b[38;5;28mself\u001b[39m\u001b[38;5;241m.\u001b[39m_default_size_range \u001b[38;5;241m=\u001b[39m (\n\u001b[1;32m    362\u001b[0m         np\u001b[38;5;241m.\u001b[39mr_[\u001b[38;5;241m.5\u001b[39m, \u001b[38;5;241m2\u001b[39m] \u001b[38;5;241m*\u001b[39m mpl\u001b[38;5;241m.\u001b[39mrcParams[\u001b[38;5;124m\"\u001b[39m\u001b[38;5;124mlines.linewidth\u001b[39m\u001b[38;5;124m\"\u001b[39m]\n\u001b[1;32m    363\u001b[0m     )\n\u001b[0;32m--> 365\u001b[0m     \u001b[38;5;28;43msuper\u001b[39;49m\u001b[43m(\u001b[49m\u001b[43m)\u001b[49m\u001b[38;5;241;43m.\u001b[39;49m\u001b[38;5;21;43m__init__\u001b[39;49m\u001b[43m(\u001b[49m\u001b[43mdata\u001b[49m\u001b[38;5;241;43m=\u001b[39;49m\u001b[43mdata\u001b[49m\u001b[43m,\u001b[49m\u001b[43m \u001b[49m\u001b[43mvariables\u001b[49m\u001b[38;5;241;43m=\u001b[39;49m\u001b[43mvariables\u001b[49m\u001b[43m)\u001b[49m\n\u001b[1;32m    367\u001b[0m     \u001b[38;5;28mself\u001b[39m\u001b[38;5;241m.\u001b[39mestimator \u001b[38;5;241m=\u001b[39m estimator\n\u001b[1;32m    368\u001b[0m     \u001b[38;5;28mself\u001b[39m\u001b[38;5;241m.\u001b[39merrorbar \u001b[38;5;241m=\u001b[39m errorbar\n",
      "File \u001b[0;32m~/mambaforge/envs/photofitt/lib/python3.9/site-packages/seaborn/_oldcore.py:640\u001b[0m, in \u001b[0;36mVectorPlotter.__init__\u001b[0;34m(self, data, variables)\u001b[0m\n\u001b[1;32m    635\u001b[0m \u001b[38;5;66;03m# var_ordered is relevant only for categorical axis variables, and may\u001b[39;00m\n\u001b[1;32m    636\u001b[0m \u001b[38;5;66;03m# be better handled by an internal axis information object that tracks\u001b[39;00m\n\u001b[1;32m    637\u001b[0m \u001b[38;5;66;03m# such information and is set up by the scale_* methods. The analogous\u001b[39;00m\n\u001b[1;32m    638\u001b[0m \u001b[38;5;66;03m# information for numeric axes would be information about log scales.\u001b[39;00m\n\u001b[1;32m    639\u001b[0m \u001b[38;5;28mself\u001b[39m\u001b[38;5;241m.\u001b[39m_var_ordered \u001b[38;5;241m=\u001b[39m {\u001b[38;5;124m\"\u001b[39m\u001b[38;5;124mx\u001b[39m\u001b[38;5;124m\"\u001b[39m: \u001b[38;5;28;01mFalse\u001b[39;00m, \u001b[38;5;124m\"\u001b[39m\u001b[38;5;124my\u001b[39m\u001b[38;5;124m\"\u001b[39m: \u001b[38;5;28;01mFalse\u001b[39;00m}  \u001b[38;5;66;03m# alt., used DefaultDict\u001b[39;00m\n\u001b[0;32m--> 640\u001b[0m \u001b[38;5;28;43mself\u001b[39;49m\u001b[38;5;241;43m.\u001b[39;49m\u001b[43massign_variables\u001b[49m\u001b[43m(\u001b[49m\u001b[43mdata\u001b[49m\u001b[43m,\u001b[49m\u001b[43m \u001b[49m\u001b[43mvariables\u001b[49m\u001b[43m)\u001b[49m\n\u001b[1;32m    642\u001b[0m \u001b[38;5;28;01mfor\u001b[39;00m var, \u001b[38;5;28mcls\u001b[39m \u001b[38;5;129;01min\u001b[39;00m \u001b[38;5;28mself\u001b[39m\u001b[38;5;241m.\u001b[39m_semantic_mappings\u001b[38;5;241m.\u001b[39mitems():\n\u001b[1;32m    643\u001b[0m \n\u001b[1;32m    644\u001b[0m     \u001b[38;5;66;03m# Create the mapping function\u001b[39;00m\n\u001b[1;32m    645\u001b[0m     map_func \u001b[38;5;241m=\u001b[39m partial(\u001b[38;5;28mcls\u001b[39m\u001b[38;5;241m.\u001b[39mmap, plotter\u001b[38;5;241m=\u001b[39m\u001b[38;5;28mself\u001b[39m)\n",
      "File \u001b[0;32m~/mambaforge/envs/photofitt/lib/python3.9/site-packages/seaborn/_oldcore.py:701\u001b[0m, in \u001b[0;36mVectorPlotter.assign_variables\u001b[0;34m(self, data, variables)\u001b[0m\n\u001b[1;32m    699\u001b[0m \u001b[38;5;28;01melse\u001b[39;00m:\n\u001b[1;32m    700\u001b[0m     \u001b[38;5;28mself\u001b[39m\u001b[38;5;241m.\u001b[39minput_format \u001b[38;5;241m=\u001b[39m \u001b[38;5;124m\"\u001b[39m\u001b[38;5;124mlong\u001b[39m\u001b[38;5;124m\"\u001b[39m\n\u001b[0;32m--> 701\u001b[0m     plot_data, variables \u001b[38;5;241m=\u001b[39m \u001b[38;5;28;43mself\u001b[39;49m\u001b[38;5;241;43m.\u001b[39;49m\u001b[43m_assign_variables_longform\u001b[49m\u001b[43m(\u001b[49m\n\u001b[1;32m    702\u001b[0m \u001b[43m        \u001b[49m\u001b[43mdata\u001b[49m\u001b[43m,\u001b[49m\u001b[43m \u001b[49m\u001b[38;5;241;43m*\u001b[39;49m\u001b[38;5;241;43m*\u001b[39;49m\u001b[43mvariables\u001b[49m\u001b[43m,\u001b[49m\n\u001b[1;32m    703\u001b[0m \u001b[43m    \u001b[49m\u001b[43m)\u001b[49m\n\u001b[1;32m    705\u001b[0m \u001b[38;5;28mself\u001b[39m\u001b[38;5;241m.\u001b[39mplot_data \u001b[38;5;241m=\u001b[39m plot_data\n\u001b[1;32m    706\u001b[0m \u001b[38;5;28mself\u001b[39m\u001b[38;5;241m.\u001b[39mvariables \u001b[38;5;241m=\u001b[39m variables\n",
      "File \u001b[0;32m~/mambaforge/envs/photofitt/lib/python3.9/site-packages/seaborn/_oldcore.py:938\u001b[0m, in \u001b[0;36mVectorPlotter._assign_variables_longform\u001b[0;34m(self, data, **kwargs)\u001b[0m\n\u001b[1;32m    933\u001b[0m \u001b[38;5;28;01melif\u001b[39;00m \u001b[38;5;28misinstance\u001b[39m(val, (\u001b[38;5;28mstr\u001b[39m, \u001b[38;5;28mbytes\u001b[39m)):\n\u001b[1;32m    934\u001b[0m \n\u001b[1;32m    935\u001b[0m     \u001b[38;5;66;03m# This looks like a column name but we don't know what it means!\u001b[39;00m\n\u001b[1;32m    937\u001b[0m     err \u001b[38;5;241m=\u001b[39m \u001b[38;5;124mf\u001b[39m\u001b[38;5;124m\"\u001b[39m\u001b[38;5;124mCould not interpret value `\u001b[39m\u001b[38;5;132;01m{\u001b[39;00mval\u001b[38;5;132;01m}\u001b[39;00m\u001b[38;5;124m` for parameter `\u001b[39m\u001b[38;5;132;01m{\u001b[39;00mkey\u001b[38;5;132;01m}\u001b[39;00m\u001b[38;5;124m`\u001b[39m\u001b[38;5;124m\"\u001b[39m\n\u001b[0;32m--> 938\u001b[0m     \u001b[38;5;28;01mraise\u001b[39;00m \u001b[38;5;167;01mValueError\u001b[39;00m(err)\n\u001b[1;32m    940\u001b[0m \u001b[38;5;28;01melse\u001b[39;00m:\n\u001b[1;32m    941\u001b[0m \n\u001b[1;32m    942\u001b[0m     \u001b[38;5;66;03m# Otherwise, assume the value is itself data\u001b[39;00m\n\u001b[1;32m    943\u001b[0m \n\u001b[1;32m    944\u001b[0m     \u001b[38;5;66;03m# Raise when data object is present and a vector can't matched\u001b[39;00m\n\u001b[1;32m    945\u001b[0m     \u001b[38;5;28;01mif\u001b[39;00m \u001b[38;5;28misinstance\u001b[39m(data, pd\u001b[38;5;241m.\u001b[39mDataFrame) \u001b[38;5;129;01mand\u001b[39;00m \u001b[38;5;129;01mnot\u001b[39;00m \u001b[38;5;28misinstance\u001b[39m(val, pd\u001b[38;5;241m.\u001b[39mSeries):\n",
      "\u001b[0;31mValueError\u001b[0m: Could not interpret value `None` for parameter `style`"
     ]
    },
    {
     "data": {
      "text/plain": [
       "<Figure size 700x400 with 0 Axes>"
      ]
     },
     "metadata": {},
     "output_type": "display_data"
    }
   ],
   "source": [
    "## Rename the columns to get the proper naming of the axis\n",
    "data = data.rename(columns={'mitosis': 'Number of cells', \n",
    "                            'mitosis_normalised': 'Norm. Number of cells'}) \n",
    "## There is raw and smooth data. We show the smooth data (with a moving average of kernel 5) for the plots.\n",
    "groups = np.unique(data[\"processing\"])\n",
    "## name of the variable to display in the plot.\n",
    "y_var = \"Number of cells\" # \"Norm. Number of cells\"\n",
    "cell_fov = 134.59\n",
    "norm = True \n",
    "if norm is True:\n",
    "    data[y_var + '_norm'] = data[y_var]/cell_fov\n",
    "    plot_y_var = y_var + '_norm'\n",
    "else:\n",
    "    plot_y_var = y_var\n",
    "\n",
    "fig_format = [\"png\", \"pdf\"]\n",
    "for g in groups:\n",
    "    # sns.set_style()\n",
    "    ploting_data = data[data[\"processing\"]==g].reset_index(drop=True)\n",
    "    title = \"UV illumination\"\n",
    "    condition = \"Light dose cat\" # \"Subcategory-02\"\n",
    "    #hue_order = ['Control-sync', 'Synchro', '25ms', '50ms', '100ms', '200ms', '400ms', '800ms',\n",
    "                 #'01sec', '05sec', '10sec', '15sec', '20sec', '25sec']\n",
    "    for f in fig_format:\n",
    "        format_extension = 'pdf'\n",
    "        name = \"{0}_{1}.{2}\".format(plot_y_var, g, f)\n",
    "        display.conditions(ploting_data, plot_y_var, title, condition, output_path, name,\n",
    "                        hue_order=hue_order, palette=sns.color_palette(\"CMRmap_r\", 17))\n",
    "        \n"
   ]
  },
  {
   "cell_type": "code",
   "execution_count": null,
   "id": "0aebc578",
   "metadata": {
    "scrolled": true
   },
   "outputs": [],
   "source": [
    "## Order the data for the plot\n",
    "#hue_order = ['Control-sync', 'Synchro', '25ms', '50ms', '100ms', '200ms', '400ms', '800ms',\n",
    "#             '01sec', '05sec', '10sec', '15sec', '20sec', '25sec']\n",
    "\n",
    "hue_order = ['non-synchro-0 J/cm2', '0 J/cm2', '0.2 J/cm2',\n",
    "             '0.3 J/cm2', '0.6 J/cm2', '1.3 J/cm2', '2.5 J/cm2',\n",
    "             '5.0 J/cm2', '6.3 J/cm2', '31.3 J/cm2', \n",
    "             '62.6 J/cm2', '93.8 J/cm2', '125.1 J/cm2', '156.4 J/cm2']\n",
    "\n",
    "fig_format = [\"png\", \"pdf\"]\n",
    "for f in fig_format:\n",
    "    name = \"{0}.{1}\".format(plot_y_var, f) # name we want to give to the plot\n",
    "    new_name=\"cells_vertical_subplots_{}\".format(name)\n",
    "\n",
    "    display.vertical_distributions(data, plot_y_var, output_path, \n",
    "                                   new_name, \n",
    "                                   raw=\"Light dose cat\",\n",
    "                                   hue=\"Light dose cat\", \n",
    "                                   hue_order=hue_order, \n",
    "                                   palette=sns.color_palette(\"CMRmap_r\", 17))\n",
    "    "
   ]
  },
  {
   "cell_type": "markdown",
   "id": "b7e42a6b",
   "metadata": {},
   "source": [
    "## Plot peak data"
   ]
  },
  {
   "cell_type": "markdown",
   "id": "9247ff7d",
   "metadata": {},
   "source": [
    "### Calculate the mitosis peaks for each video"
   ]
  },
  {
   "cell_type": "code",
   "execution_count": null,
   "id": "cb3ff795",
   "metadata": {},
   "outputs": [],
   "source": [
    "y_var = \"Number of cells\" # \"Norm. Number of cells\"\n",
    "cell_fov = cell_fov # 134.59\n",
    "norm = True \n",
    "if norm is True:\n",
    "    data[y_var + '_norm'] = data[y_var]/cell_fov\n",
    "    plot_y_var = y_var + '_norm'\n",
    "else:\n",
    "    plot_y_var = y_var\n",
    "    \n",
    "# Integrate the information about the temporal peaks of mitosis\n",
    "data_peaks = quantify_peaks(data, plot_y_var)\n",
    "\n",
    "data_peaks = photofitt.utils.numerical_dose(data_peaks, column_name=\"Subcategory-02\", power=6.255662)\n",
    "## Generate categorical variables for the light dose\n",
    "light_dose = np.unique(data_peaks[\"Light dose\"])\n",
    "data_peaks[\"Light dose cat\"] = ''\n",
    "for l in light_dose:\n",
    "    if l > 0:\n",
    "        cat = np.str(np.round(l, decimals=1)) + \" J/cm2\"\n",
    "    else:\n",
    "        cat = 'non-synchro-0 J/cm2'\n",
    "    \n",
    "    data_peaks[\"Light dose cat\"][data_peaks[\"Light dose\"]==l] = cat\n",
    "data_peaks[\"Light dose cat\"][data_peaks[\"Subcategory-02\"]==\"Synchro\"] = '0 J/cm2'"
   ]
  },
  {
   "cell_type": "markdown",
   "id": "9722687f",
   "metadata": {},
   "source": [
    "### Display the peak information for each condition"
   ]
  },
  {
   "cell_type": "code",
   "execution_count": null,
   "id": "eceb6343",
   "metadata": {
    "scrolled": true
   },
   "outputs": [],
   "source": [
    "#### Show each distribution with both violins and points\n",
    "\n",
    "## Rename the columns to get the proper naming in the plots\n",
    "data_peaks = data_peaks.rename(columns={'peak_time': 'Peak time point (min)', \n",
    "                            'delay_synchro': 'Delay w.r.t. synchronised cells (min)',\n",
    "                           'proportional_delay_synchro': 'Proportional delay w.r.t. synchronised cells'})\n",
    "\n",
    "x_var = [\"Peak time point (min)\", \"Delay w.r.t. synchronised cells (min)\",\n",
    "         \"Proportional delay w.r.t. synchronised cells\", \"Resistant cell decrease\",\n",
    "         \"Proportional resistant decrease\"]\n",
    "fig_format = [\"png\", \"pdf\"]\n",
    "for x in x_var:\n",
    "    for f in fig_format:\n",
    "        name = \"{0}.{1}\".format(x, f) # name we want to give to the plot\n",
    "        new_name=\"peaktime_violin_horizontal_exposure_time{}\".format(name)\n",
    " #       display.violinplots_horizontal(data_peaks,\"Subcategory-02\", x, output_path, new_name, hue_order,\n",
    " #                              palette=sns.color_palette(\"CMRmap_r\", 17))\n",
    "        display.violinplots_horizontal(data_peaks,'Light dose cat', x, output_path, new_name, hue_order,\n",
    "                               palette=sns.color_palette(\"CMRmap_r\", 17))\n",
    "        \n",
    "    "
   ]
  },
  {
   "cell_type": "code",
   "execution_count": null,
   "id": "972217e2",
   "metadata": {
    "scrolled": true
   },
   "outputs": [],
   "source": [
    "data_peaks_regression = data_peaks[data_peaks[\"Exposure time\"]>=0]\n",
    "#data_peaks_regression = data_peaks_regression[data_peaks_regression[\"Exposure time\"]<=1]\n",
    "x_var = [\"Peak time point (min)\", \"Delay w.r.t. synchronised cells (min)\",\n",
    "         \"Proportional delay w.r.t. synchronised cells\", \"Resistant cell decrease\",\n",
    "         \"Proportional resistant decrease\"]\n",
    "fig_format = [\"png\", \"pdf\"]\n",
    "for x in x_var:\n",
    "    for f in fig_format:\n",
    "        name = \"{0}.{1}\".format(x, f) # name we want to give to the plot\n",
    "        new_name=\"peaktime_regression_{}\".format(name)\n",
    "        display.regressionfit(data_peaks_regression, x, \"Exposure time\", output_path, new_name, \n",
    "                              hue=\"Subcategory-02\", hue_order=hue_order, spline_order=2,\n",
    "                              height=4, aspect=1, palette=sns.color_palette(\"CMRmap_r\", 17))\n",
    "        \n",
    "data_peaks_regression = data_peaks_regression[data_peaks_regression[\"Exposure time\"]<=1]\n",
    "for x in x_var:\n",
    "    for f in fig_format:\n",
    "        name = \"{0}.{1}\".format(x, f) # name we want to give to the plot\n",
    "        new_name=\"peaktime_regression_limited_{}\".format(name)\n",
    "        display.regressionfit(data_peaks_regression, x, \"Exposure time\", output_path, new_name, \n",
    "                              hue=\"Subcategory-02\", hue_order=hue_order, spline_order=2,\n",
    "                              height=4, aspect=1, palette=sns.color_palette(\"CMRmap_r\", 17))\n"
   ]
  },
  {
   "cell_type": "markdown",
   "id": "976b02e3",
   "metadata": {},
   "source": [
    "## Display cell activity after mitosis"
   ]
  },
  {
   "cell_type": "code",
   "execution_count": null,
   "id": "4918a284",
   "metadata": {},
   "outputs": [],
   "source": [
    "## Path to the cell growth data:\n",
    "# Load UV mitosis data:\n",
    "path_growth_data = os.path.join(folder, \"data/dynamics_intensity_WL UV - high density.csv\")\n",
    "activity_metrics = pd.read_csv(path_growth_data)\n",
    "activity_metrics = photofitt.utils.numerical_dose(activity_metrics, column_name=\"Subcategory-02\", power=light_power)\n",
    "\n",
    "## Generate categorical variables for the light dose\n",
    "light_dose = np.unique(activity_metrics[\"Light dose\"])\n",
    "activity_metrics[\"Light dose cat\"] = ''\n",
    "for l in light_dose:\n",
    "    if l > 0:\n",
    "        cat = np.str(np.round(l, decimals=1)) + \" J/cm2\"\n",
    "    else:\n",
    "        cat = 'non-synchro-0 J/cm2'\n",
    "    \n",
    "    activity_metrics[\"Light dose cat\"][activity_metrics[\"Light dose\"]==l] = cat\n",
    "activity_metrics[\"Light dose cat\"][activity_metrics[\"Subcategory-02\"]==\"Synchro\"] = '0 J/cm2'\n",
    "\n",
    "hue_order = ['non-synchro-0 J/cm2', '0 J/cm2', '0.2 J/cm2',\n",
    "             '0.3 J/cm2', '0.6 J/cm2', '1.3 J/cm2', '2.5 J/cm2',\n",
    "             '5.0 J/cm2', '6.3 J/cm2', '31.3 J/cm2', \n",
    "             '62.6 J/cm2', '93.8 J/cm2', '125.1 J/cm2', '156.4 J/cm2']\n",
    "activity_metrics = activity_metrics.rename(columns={'time_variance': 'Cell growth'})"
   ]
  },
  {
   "cell_type": "code",
   "execution_count": null,
   "id": "6dba77fe",
   "metadata": {
    "scrolled": false
   },
   "outputs": [],
   "source": [
    "y_var = \"Cell growth\"\n",
    "hue=\"Light dose cat\" # \"Subcategory-02\"\n",
    "format_extension = 'png'\n",
    "name = \"cell_growth.{}\".format(format_extension)\n",
    "title = \"Cell activity after mitosis\"\n",
    "display.conditions(activity_metrics, y_var, \n",
    "                   title, \n",
    "                   hue, \n",
    "                   output_path, name, \n",
    "                   hue_order=hue_order,\n",
    "                   palette=sns.color_palette(\"CMRmap_r\", 17),\n",
    "                   style=None)"
   ]
  },
  {
   "cell_type": "markdown",
   "id": "5038795f",
   "metadata": {},
   "source": [
    "### Analysis of the cell growth after the peak in mitosis\n",
    "We will average the dynamics and compute the cummulative sum after mitosis to estimate the dynamics of the daughter cells growing"
   ]
  },
  {
   "cell_type": "code",
   "execution_count": null,
   "id": "a94628fb",
   "metadata": {},
   "outputs": [],
   "source": [
    "activity_dataframe, activity_metrics = cumulative_activity(activity_metrics, data_peaks, use_starting_point=\"event peak\")"
   ]
  },
  {
   "cell_type": "markdown",
   "id": "524f81e0",
   "metadata": {},
   "source": [
    "#### Display the cummulative results"
   ]
  },
  {
   "cell_type": "code",
   "execution_count": null,
   "id": "bf9f5bfc",
   "metadata": {},
   "outputs": [],
   "source": [
    "y_var = \"Cummulative cell growth\"\n",
    "format_extension = 'pdf'\n",
    "name = \"cell_cummulative_growth_from0.{}\".format(format_extension)\n",
    "\n",
    "#display.plot_conditions(dynamics_metrics, y_var, \"Cummulative cell growth after mitosis\", \"Subcategory-02\", \n",
    "#                        output_path, name, style_condition=\"Subcategory-01\", hue_order=hue_order)\n",
    "\n",
    "fig = plt.figure(figsize=(4, 5), constrained_layout=True)\n",
    "custom_params = {\"axes.spines.right\": False, \"axes.spines.top\": False}\n",
    "sns.plotting_context(\"paper\")\n",
    "sns.set_theme(style=\"ticks\", rc=custom_params)\n",
    "sns.set(font_scale=0.85)\n",
    "# Plot the results per category\n",
    "sns.lineplot(x=\"frame\", y=y_var, hue=\"Subcategory-02\", data=activity_metrics,\n",
    "             palette=sns.color_palette(\"CMRmap_r\", 17), linewidth=1.5, alpha=0.75, hue_order=hue_order)\n",
    "# plt.ylabel(y_label)\n",
    "plt.xlabel(\"Time (min)\")\n",
    "plt.yscale(\"linear\")\n",
    "#plt.legend(loc='upper right')\n",
    "format_extension = name.split(\".\")[-1]\n",
    "format_extension = 'pdf'\n",
    "name = \"cell_cummulative_growth.{}\".format(format_extension)\n",
    "fig.savefig(os.path.join(output_path, name), format=format_extension, transparent=True)\n",
    "format_extension = 'png'\n",
    "name = \"cell_cummulative_growth.{}\".format(format_extension)\n",
    "fig.savefig(os.path.join(output_path, name), format=format_extension, transparent=True)\n"
   ]
  },
  {
   "cell_type": "markdown",
   "id": "669989ee",
   "metadata": {},
   "source": [
    "#### Display the violin plots of the averaged cell growth vertically distributed"
   ]
  },
  {
   "cell_type": "code",
   "execution_count": null,
   "id": "886e9e73",
   "metadata": {},
   "outputs": [],
   "source": [
    "x_var = ['Mean activity', \"Activity slope\"]\n",
    "\n",
    "for x in x_var:\n",
    "    f, ax = plt.subplots(figsize=(4, 5), constrained_layout=True)\n",
    "    custom_params = {\"axes.spines.right\": False, \"axes.spines.top\": False}\n",
    "    sns.plotting_context(\"paper\")\n",
    "    sns.set_theme(style=\"ticks\", rc=custom_params)\n",
    "    sns.set(font_scale=1)\n",
    "    ax.yaxis.set_tick_params(pad=-6) \n",
    "    sns.violinplot(data=activity_dataframe, palette=sns.color_palette(\"CMRmap_r\", 17), \n",
    "                   inner=\"points\", order=hue_order,\n",
    "                   hue_order=hue_order, bw=.5, orient=\"h\", \n",
    "                   y=\"Subcategory-02\", \n",
    "                   x=x, width=1, linewidth=0.5)\n",
    "\n",
    "    # Tweak the visual presentation\n",
    "    ax.xaxis.grid(True, color=\"gray\")\n",
    "\n",
    "    ax.set(ylabel=\"Exposure time to UV radiation\")\n",
    "    ax.set(xlabel=x)\n",
    "    sns.despine(trim=True, left=True)\n",
    "\n",
    "    format_extension = 'png'\n",
    "    name = \"{0}.{1}\".format(x, format_extension) # name we want to give to the plot\n",
    "    new_name=\"peaktime_violin_horizontal_{}\".format(name)\n",
    "    f.savefig(os.path.join(output_path, new_name), format=format_extension, transparent=True, dpi=300)\n",
    "    format_extension = 'pdf'\n",
    "    name = \"{0}.{1}\".format(x, format_extension) # name we want to give to the plot\n",
    "    new_name=\"peaktime_violin_horizontal_{}\".format(name)\n",
    "    f.savefig(os.path.join(output_path, new_name), format=format_extension, transparent=True,dpi=300)"
   ]
  },
  {
   "cell_type": "code",
   "execution_count": null,
   "id": "376618ef",
   "metadata": {},
   "outputs": [],
   "source": [
    "activitymotion_dataframe=activity_dataframe.reset_index(drop=True)"
   ]
  },
  {
   "cell_type": "code",
   "execution_count": null,
   "id": "1cc39f8e",
   "metadata": {},
   "outputs": [],
   "source": [
    "activity_dataframe[\"Exposure time\"] = 0.\n",
    "for i in range(len(activity_dataframe)):\n",
    "    s = activity_dataframe[\"Subcategory-02\"].iloc[i]\n",
    "    if s.__contains__(\"Control\"):\n",
    "        n = -0.001\n",
    "    elif s.__contains__(\"Synchro\"):\n",
    "        n = 0.\n",
    "    else:\n",
    "        n = float(''.join(filter(str.isdigit, s)))\n",
    "        if s.__contains__(\"ms\"):\n",
    "            n = 0.001*n\n",
    "    activity_dataframe.loc[[i],'Exposure time'] = n"
   ]
  },
  {
   "cell_type": "code",
   "execution_count": null,
   "id": "2d4776d8",
   "metadata": {},
   "outputs": [],
   "source": [
    "activity_dataframe_regression = activity_dataframe[activity_dataframe[\"Exposure time\"]>=0]\n",
    "activity_dataframe_regression = activity_dataframe_regression[activitymotion_dataframe_regression[\"Exposure time\"]<=1]\n",
    "x_var = [\"Peak time point (min)\", \"Delay w.r.t. synchronised cells (min)\",\n",
    "         \"Proportional delay w.r.t. synchronised cells\"]\n",
    "\n",
    "x = 'Mean activity'\n",
    "f = sns.catplot(\n",
    "    data = activity_dataframe_regression, x=\"Exposure time\", y=x, \n",
    "    #hue=\"Subcategory-02\", hue_order=hue_order, palette=sns.color_palette(\"CMRmap_r\", 17),\n",
    "    native_scale=True, height=4, aspect=2\n",
    ")\n",
    "sns.regplot(\n",
    "    data = activity_dataframe_regression, x=\"Exposure time\", y=x,\n",
    "    scatter=False, truncate=True, order=2, color=\"green\",#6\n",
    ")\n",
    "sns.regplot(\n",
    "    data = activity_dataframe_regression, x=\"Exposure time\", y=x,\n",
    "    scatter=False, truncate=True, order=1, color=\"yellow\"#2\n",
    ")\n",
    "sns.regplot(\n",
    "    data = activitymotion_dataframe_regression, x=\"Exposure time\", y=x,lowess=True, \n",
    "    scatter=False, truncate=True, order=1, color=\"orange\"\n",
    ")\n",
    "\n",
    "## Set style\n",
    "custom_params = {\"axes.spines.right\": False, \"axes.spines.top\": False}    \n",
    "sns.plotting_context(\"paper\")\n",
    "sns.set(font_scale=1)\n",
    "sns.set_theme(style=\"whitegrid\", rc=custom_params)\n",
    "\n",
    "format_extension = 'png'\n",
    "name = \"{0}.{1}\".format(x, format_extension) # name we want to give to the plot\n",
    "new_name=\"growth_regression_firstrange_{}\".format(name)\n",
    "f.savefig(os.path.join(output_path, new_name), format=format_extension, transparent=True, dpi=300)\n",
    "format_extension = 'pdf'\n",
    "name = \"{0}.{1}\".format(x, format_extension) # name we want to give to the plot\n",
    "new_name=\"growth_regression_firstrange_{}\".format(name)\n",
    "f.savefig(os.path.join(output_path, new_name), format=format_extension, transparent=True,dpi=300)\n",
    "\n",
    "# plt.xlim([-0.2, 1.2])\n",
    "# format_extension = 'png'\n",
    "# name = \"{0}.{1}\".format(x, format_extension) # name we want to give to the plot\n",
    "# new_name=\"growth_regression_firstrange_lim_{}\".format(name)\n",
    "# f.savefig(os.path.join(output_path, new_name), format=format_extension, transparent=True, dpi=300)\n",
    "# format_extension = 'pdf'\n",
    "# name = \"{0}.{1}\".format(x, format_extension) # name we want to give to the plot\n",
    "# new_name=\"growth_regression_firstrange_lim_{}\".format(name)\n",
    "# f.savefig(os.path.join(output_path, new_name), format=format_extension, transparent=True,dpi=300)"
   ]
  },
  {
   "cell_type": "markdown",
   "id": "9e8fb872",
   "metadata": {},
   "source": [
    "## Plot the results for different wavelengths"
   ]
  },
  {
   "cell_type": "code",
   "execution_count": null,
   "id": "688cdab9",
   "metadata": {},
   "outputs": [],
   "source": [
    "wl = [\"UV\", \"475\", \"568\", \"630\"]\n",
    "data = None\n",
    "for w in wl:\n",
    "    new_data = pd.read_csv(os.path.join(folder, \"data/mitosis_CHO_{}_clean.csv\".format(w)))\n",
    "    ## Rename the columns to get the proper naming of the axis\n",
    "    new_data = new_data.rename(columns={'mitosis': 'Number of cells', \n",
    "                                'mitosis_normalised': 'Norm. Number of cells'})\n",
    "    data_peaks = quantify_peaks(new_data, 'Number of cells')\n",
    "    if data is None:\n",
    "        data = data_peaks\n",
    "    else:\n",
    "        data = pd.concat([data, data_peaks]).reset_index(drop=True)\n",
    "# Integrate the information about the temporal peaks of mitosis\n"
   ]
  },
  {
   "cell_type": "code",
   "execution_count": null,
   "id": "41f20569",
   "metadata": {},
   "outputs": [],
   "source": [
    "np.unique(data[\"Subcategory-01\"])"
   ]
  },
  {
   "cell_type": "code",
   "execution_count": null,
   "id": "063a5b23",
   "metadata": {},
   "outputs": [],
   "source": [
    "#### Show each distribution with both violins and points\n",
    "wl=[ 'WL UV - high density', 'WL 475 - high density', 'WL 568 - high density','WL 630 - high density']\n",
    "hue_order = ['Control-sync', 'Synchro', 'UV50ms', 'UV100ms', 'UV200ms', 'UV400ms', 'UV800ms']\n",
    "             #'UV01sec', 'UV05sec', 'UV10sec', 'UV15sec', 'UV20sec', 'UV25sec'] \n",
    "\n",
    "## Rename the columns to get the proper naming in the plots\n",
    "data = data.rename(columns={'peak_time': 'Peak time point (min)', \n",
    "                            'delay_synchro': 'Delay w.r.t. synchronised cells (min)',\n",
    "                           'proportional_delay_synchro': 'Proportional delay w.r.t. synchronised cells'})\n",
    "\n",
    "x_var = [\"Peak time point (min)\", \"Delay w.r.t. synchronised cells (min)\",\n",
    "         \"Proportional delay w.r.t. synchronised cells\", \"Resistant cell decrease\",\n",
    "         \"Proportional resistant decrease\"]\n",
    "\n",
    "# Create an array with the colors you want to use\n",
    "colors = [ \"#bf00ff\", \"#3366ff\", \"#bfff00\", \"#ff6633\"]# Set your custom color palette\n",
    "palette = sns.color_palette(colors)\n",
    "\n",
    "for x in x_var:\n",
    "    f, ax = plt.subplots(figsize=(12, 3), constrained_layout=True)\n",
    "    custom_params = {\"axes.spines.right\": False, \"axes.spines.top\": False}\n",
    "    sns.plotting_context(\"paper\")\n",
    "    sns.set_theme(style=\"ticks\", rc=custom_params)\n",
    "    sns.set(font_scale=1)\n",
    "    ax.yaxis.set_tick_params(pad=-6) \n",
    "    sns.violinplot(data=data, palette=palette,  #palette=sns.color_palette(\"husl\", 14), \n",
    "                   bw=.5, orient=\"v\", order=hue_order, hue_order=wl,\n",
    "                   x=\"Subcategory-02\", hue=\"Subcategory-01\", alpha=1,\n",
    "                   y=x, width=0.7, linewidth=0.5)\n",
    "\n",
    "    # Tweak the visual presentation\n",
    "    ax.xaxis.grid(True)\n",
    "    plt.legend(loc=\"upper right\")\n",
    "    ax.set(xlabel=\"Exposure time to UV radiation\")\n",
    "    ax.set(ylabel=x)\n",
    "    sns.despine(trim=True, left=True)\n",
    "\n",
    "    format_extension = 'png'\n",
    "    name = \"{0}_wl.{1}\".format(x, format_extension) # name we want to give to the plot\n",
    "    new_name=\"peaktime_violin_horizontal_{}\".format(name)\n",
    "    f.savefig(os.path.join(output_path, new_name), format=format_extension, transparent=True, dpi=300)\n",
    "    format_extension = 'pdf'\n",
    "    name = \"{0}_wl.{1}\".format(x, format_extension) # name we want to give to the plot\n",
    "    new_name=\"peaktime_violin_horizontal_{}\".format(name)\n",
    "    f.savefig(os.path.join(output_path, new_name), format=format_extension, transparent=True,dpi=300)\n"
   ]
  },
  {
   "cell_type": "code",
   "execution_count": null,
   "id": "7c641601",
   "metadata": {},
   "outputs": [],
   "source": []
  },
  {
   "cell_type": "code",
   "execution_count": null,
   "id": "3d5ac467",
   "metadata": {},
   "outputs": [],
   "source": []
  }
 ],
 "metadata": {
  "kernelspec": {
   "display_name": "Python 3 (ipykernel)",
   "language": "python",
   "name": "python3"
  },
  "language_info": {
   "codemirror_mode": {
    "name": "ipython",
    "version": 3
   },
   "file_extension": ".py",
   "mimetype": "text/x-python",
   "name": "python",
   "nbconvert_exporter": "python",
   "pygments_lexer": "ipython3",
   "version": "3.9.7"
  }
 },
 "nbformat": 4,
 "nbformat_minor": 5
}

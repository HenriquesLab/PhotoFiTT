{
 "cells": [
  {
   "cell_type": "markdown",
   "id": "b279571e",
   "metadata": {},
   "source": [
    "# PhotoFiTT: Mitotic rounding analysis\n",
    "\n",
    "Before using this notebook make sure that you have the following: \n",
    "  - Mitotic rounding instance segmentation masks: Processed videos using StarDist or any other segmentation method to identify cells in mitotic rounding. It expects `.tif` video files with the instance mask of each identified cell (*i.e.*, the mask of each cell has a different label value).\n",
    "  - All cells segmentation masks: Processed images (only the first frame of each video) using a segmentation method to identify all the cells in the field of view. It expects `.tif` video files with the instance mask of each identified cell (*i.e.*, the mask of each cell has a different label value)\n",
    "\n",
    "## Data structure:\n",
    "- Data (both mitotic rounding masks and all cells masks folders) has to be organised in folders by `replica > illumination condition > light dose`. Alternatively, one could have it for other conditions such as `replica > drug > concentration`. Check the schema as follows.\n",
    "- Each hierarchical level in the data is encoded as `\"Subcategory-XX\"` in the code. The Subcategories are used to display the data analysis results. The labels will be identical to the folder name, so the same conditions should always have the same folder name. For example `WL 475 light` folder name for the folders containing data illuminated with a wavelength of 475 nm in replicas 1 and 2. This applies to all the hierarchical levels.\n",
    "- Alternatively, one could rename these columns using the `pandas dataframe` functionalities in the code.\n",
    "\n",
    "   ```\n",
    "   general_path:\n",
    "    -Masks (folder)\n",
    "    |\n",
    "    |--Biological-replica-date-1 (folder) [Subcategory-00]\n",
    "        |\n",
    "        |--Cell density / UV Light / WL 475 light [Subcategory-01] \n",
    "           |\n",
    "           |-- control-condition (folder) [Subcategory-02] \n",
    "           |    |  file1.tif\n",
    "           |    |  file2.tif\n",
    "           |    |  ...\n",
    "           |\n",
    "           |-- condition1 (folder) [Subcategory-02] \n",
    "           |    |  file1.tif\n",
    "           |    |  file2.tif\n",
    "           |    |  ...\n",
    "           |\n",
    "           |-- condition2 (folder) [Subcategory-02] \n",
    "           |    |  file1.tif\n",
    "           |    |  file2.tif\n",
    "           |    |  ...\n",
    "        |\n",
    "        |--Cell density / UV Light / WL 475 light [Subcategory-01]\n",
    "        ...\n",
    "   ```\n",
    "## Example data\n",
    "Two types of data are provided to test the notebooks:\n",
    "\n",
    "- A `csv` file to reproduce the plots and results from our study with synchronised cells. When using this, one should previously add it to the output folder, and then, can skip loading the detected mitotic events (Section 1): indicating the correct paths in Section 0, one can directly jump to Section 2.\n",
    "- Example data to start using the notebooks from scratch."
   ]
  },
  {
   "cell_type": "markdown",
   "id": "8238735b",
   "metadata": {},
   "source": [
    "## 0. Import all the required dependencies"
   ]
  },
  {
   "cell_type": "code",
   "execution_count": null,
   "id": "c4063b6a",
   "metadata": {},
   "outputs": [],
   "source": [
    "import photofitt\n",
    "from photofitt.analysis import count_mitosis_all, quantify_peaks, compare_peaks, total_cell_number, add_inferred_nuclei\n",
    "from photofitt import display\n",
    "from photofitt.utils import stats\n",
    "import os\n",
    "import numpy as np\n",
    "import pandas as pd\n",
    "import seaborn as sns\n",
    "import matplotlib.pyplot as plt"
   ]
  },
  {
   "cell_type": "markdown",
   "id": "e421f4a2",
   "metadata": {},
   "source": [
    "### 0.1 Provide some input information\n",
    "- `masks_path`: The path where the mitotic cells masks are stored. Equivalent to \"Masks (folder)\" in our hierarchy. This folder should contain all the biological replicas and subsequent folders. For example \"/Users/lmorgado/Documents/PhotoFitt test/example-data-github/example-data-notebooks/premitotic_rounding_masks\"\n",
    "- `output_path`: The path where the notebook will save all the results. Once the cell activity is calculated, a CSV file together with the plots will be stored there. For example \"/Users/lmorgado/Documents/PhotoFitt test/notebook_test\"\n",
    "- `cellnumber_path`: The path where all the cells in the first frame of each video are segmented. Should also follow the \"Masks (folder)\" in our hierarchy. For example \"/Users/lmorgado/Documents/PhotoFitt test/example-data-github/example-data-notebooks/pix2pix_masks\"\n",
    "- `frame_rate`: The time frame in the videos given in minutes (e.g., one frame every 4 minutes equals `frame_rate = 4`)"
   ]
  },
  {
   "cell_type": "code",
   "execution_count": null,
   "id": "e66a6cea",
   "metadata": {},
   "outputs": [],
   "source": [
    "masks_path = \"/Users/esti/Documents/PROYECTOS/PHX/DOCS/MANUSCRIPT/CODE/data/paper_data/ANNOTATIONS/SYNCHRO-DATA/masks\"\n",
    "output_path =  \"/Users/esti/Documents/PROYECTOS/PHX/PhotoFiTT/example-data\"\n",
    "cellnumber_path = \"/Users/lmorgado/Library/CloudStorage/OneDrive-igc.gulbenkian.pt/Manuscript - PhotoFiTT/PAPER/example-data-github/example-data-notebooks/pix2pix_masks\"\n",
    "frame_rate = 4 # The time gap we will use to compute all the metrics\n",
    "\n",
    "# Create the folders to store the results\n",
    "os.makedirs(output_path, exist_ok=True)\n",
    "os.makedirs(os.path.join(output_path, \"plots\"), exist_ok=True)"
   ]
  },
  {
   "cell_type": "markdown",
   "id": "7815e880",
   "metadata": {},
   "source": [
    "## 1. Count the number of mitoses"
   ]
  },
  {
   "cell_type": "code",
   "execution_count": null,
   "id": "eb0132a5",
   "metadata": {
    "scrolled": true
   },
   "outputs": [],
   "source": [
    "data = count_mitosis_all(masks_path, frame_rate = frame_rate, min_roundness=-0.00001)\n",
    "# save the information\n",
    "data.to_csv(os.path.join(output_path, \"mitosis_counting.csv\"))\n",
    "print(f\"A CSV file with the information about detected mitotic rounding is stored in:\")\n",
    "print(f\"{os.path.join(output_path, 'mitosis_counting.csv')}\")"
   ]
  },
  {
   "cell_type": "markdown",
   "id": "ed082bb2-5014-4cb6-8aa8-3060057256ec",
   "metadata": {},
   "source": [
    "### 1.0 Add the total number of cells information and normalise the cell counting"
   ]
  },
  {
   "cell_type": "code",
   "execution_count": null,
   "id": "ef75ea10-d865-46aa-bfe3-7e3c804b15d5",
   "metadata": {},
   "outputs": [],
   "source": [
    "## Count the number of cells on each FOV\n",
    "cell_number = total_cell_number(cellnumber_path, type=\"image\")\n",
    "cell_number.to_csv(os.path.join(output_path, \"counting_pix2pix.csv\"))\n",
    "print(f\"A CSV file with the number of cells on each FOV is stored in:\")\n",
    "print(f\"{os.path.join(output_path, 'counting_pix2pix.csv')}\")\n"
   ]
  },
  {
   "cell_type": "markdown",
   "id": "46f27f3e-39f8-4175-9ad7-85888ffd3385",
   "metadata": {},
   "source": [
    "### 1.1 Cross the data of mitotic detections and the total number of cells to normalise the information"
   ]
  },
  {
   "cell_type": "code",
   "execution_count": null,
   "id": "88d6bdc1-b4f0-4d3d-9f83-85690bfef67d",
   "metadata": {
    "scrolled": true
   },
   "outputs": [],
   "source": [
    "# If you stored the data in a previous session, you can load it again as follows:\n",
    "data = pd.read_csv(os.path.join(output_path, \"mitosis_counting.csv\"))\n",
    "cell_number = pd.read_csv(os.path.join(output_path, 'counting_pix2pix.csv'))\n",
    "cell_number = pd.read_csv(os.path.join(output_path, \"normalised_mitosis_counting_original.csv\"))\n",
    "updated_data = add_inferred_nuclei(data, cell_number)\n",
    "\n",
    "# -----\n",
    "updated_data[\"Cell percentage\"] = updated_data[\"Number of cells\"] / updated_data['cell_counts_stardist']\n",
    "data_filtered = updated_data.loc[lambda updated_data: updated_data[\"Cell percentage\"] <= 1] # Remove anny potential frame that was not well segmented\n",
    "data_filtered.to_csv(os.path.join(output_path, \"normalised_mitosis_counting.csv\"))\n",
    "print(f\"A CSV file with the normalised number of mitotic rounding events on each FOV is stored in:\")\n",
    "print(f\"{os.path.join(output_path, 'normalised_mitosis_counting.csv')}\")\n",
    "\n",
    "del updated_data, cell_number, data"
   ]
  },
  {
   "cell_type": "markdown",
   "id": "08393947-4437-4a2d-84da-1d764fc91101",
   "metadata": {},
   "source": [
    "## 2. Display detected mitotic rounding events"
   ]
  },
  {
   "cell_type": "markdown",
   "id": "de53c952",
   "metadata": {},
   "source": [
    "### 2.1 Display the results per replica and condition\n",
    "\n",
    "The next code will create different plots with the raw data considering all the conditions and experimental replicas. Use this to identify experimental errors in the acquisitions or biased biological behaviours. This can arise from mechanical malfunctions such as losing the focal plane over the course of the timelapse to cellular stress.\n",
    "\n",
    "By default, it will export the plots as `.png`, but you can also specify the `graph_format='png'` in the function."
   ]
  },
  {
   "cell_type": "code",
   "execution_count": null,
   "id": "93931fae-4ff8-4c2d-b1c4-31be1da53c94",
   "metadata": {},
   "outputs": [],
   "source": [
    "## Load the data\n",
    "data = pd.read_csv(os.path.join(output_path, \"normalised_mitosis_counting.csv\"))\n",
    "\n",
    "wls = np.unique(data[\"Subcategory-01\"])\n",
    "condition = \"Subcategory-02\"\n",
    "\n",
    "## Name of the variable to display in the plot.\n",
    "plot_y_var = \"Cell percentage\"\n",
    "graph_format = [\"pdf\"] #, \"pdf\"]\n",
    "\n",
    "\n",
    "hue_order = ['non-synchro-0 jcm2', '0 jcm2', '0.6 jcm2', '6 jcm2','60 jcm2']\n",
    "hue_order = [ 'Control-sync', 'Synchro', '06-widefield', '06-confocal']\n",
    "hue_order = [ 'Control-sync', 'Synchro', '100ms', '01sec', '10sec']\n",
    "#hue_order = ['Control-sync', 'Control-sync_475', 'Synchro', 'Synchro_475','MitoRed', 'MitoRed_475','MitoGreen', 'MitoGreen_475']\n",
    "print(\"All the plots will be saved in:\")\n",
    "print(f\"{os.path.join(output_path, 'plots')}\")\n",
    "\n",
    "## Colours for the conditions\n",
    "palette = sns.color_palette(\"CMRmap_r\", len(hue_order)+1) \n",
    "\n",
    "for w in wls:\n",
    "    data_wl = data.loc[lambda data: data[\"Subcategory-01\"]==w]\n",
    "    groups = np.unique(data_wl[\"Subcategory-00\"])\n",
    "    for g in groups:\n",
    "        ploting_data_g = data_wl[data_wl[\"Subcategory-00\"]==g].reset_index(drop=True)  \n",
    "        for s in ['Raw']:\n",
    "            ploting_data = ploting_data_g[ploting_data_g[\"processing\"]==s].reset_index(drop=True)    \n",
    "            title = f\"{g}\"\n",
    "            for f in graph_format:\n",
    "                name = \"Synchro_{0}_{1}_{2}_{3}.{4}\".format(w, g, plot_y_var, s, f)\n",
    "                display.conditions(ploting_data,\n",
    "                                   plot_y_var,\n",
    "                                   title,\n",
    "                                   condition,\n",
    "                                   os.path.join(output_path, \"plots\"),\n",
    "                                   name,\n",
    "                                   hue_order=hue_order,\n",
    "                                   palette=palette)\n"
   ]
  },
  {
   "cell_type": "markdown",
   "id": "fce6c3fa",
   "metadata": {},
   "source": [
    "### 2.2. Display the results for each single wavelength, including all the conditions. Together and separated."
   ]
  },
  {
   "cell_type": "code",
   "execution_count": null,
   "id": "010a86f9",
   "metadata": {},
   "outputs": [],
   "source": [
    "## Indicate the variabled encoding the Wavelength (\"Subcategory-01\") and light doses (\"Subcategory-02\").\n",
    "wls = np.unique(data[\"Subcategory-01\"])\n",
    "condition = \"Subcategory-02\"\n",
    "hue_order = ['non-synchro-0 jcm2', '0 jcm2', '0.6 jcm2', '6 jcm2','60 jcm2']\n",
    "hue_order = [ 'Control-sync', 'Synchro', '06-widefield', '06-confocal']\n",
    "hue_order = ['Control-sync', 'Control-sync_475', 'Synchro', 'Synchro_475','MitoRed', 'MitoRed_475','MitoGreen', 'MitoGreen_475']\n",
    "hue_order = [ 'Control-sync', 'Synchro', '100ms', '01sec', '10sec']\n",
    "## There is raw and smooth data. We show the smooth data (with a moving average of kernel 5) for the plots.\n",
    "smoothing = np.unique(data[\"processing\"])\n",
    "\n",
    "## Name of the variable to display in the plot.\n",
    "plot_y_var = \"Cell percentage\"\n",
    "\n",
    "## Format to save the plots.\n",
    "graph_format = [\"png\", \"pdf\"] # \"pdf\"\n",
    "\n",
    "## Colours for the conditions\n",
    "palette = sns.color_palette(\"CMRmap_r\", len(hue_order)+1) # we add one to keep the same ones as before where the unsynchronised control was shown.\n",
    "for w in wls:\n",
    "    ploting_data_g = data[data[\"Subcategory-01\"]==w].reset_index(drop=True)  \n",
    "    \n",
    "    for s in smoothing:\n",
    "        # sns.set_style()\n",
    "        ploting_data = ploting_data_g[ploting_data_g[\"processing\"]==s].reset_index(drop=True)    \n",
    "        title = f\"{w}\"\n",
    "        \n",
    "        for f in graph_format:\n",
    "            name = \"reduced_{0}_{1}_{2}.{3}\".format(w, plot_y_var, s, f)\n",
    "            display.conditions(ploting_data,\n",
    "                               plot_y_var,\n",
    "                               title, condition,\n",
    "                               os.path.join(output_path, \"plots\"),\n",
    "                               name,\n",
    "                               hue_order=hue_order,\n",
    "                               palette=palette)\n"
   ]
  },
  {
   "cell_type": "markdown",
   "id": "4b2c5c76",
   "metadata": {},
   "source": [
    "## 3. Calculate the time point with the peak of identified mitotic rounding events"
   ]
  },
  {
   "cell_type": "markdown",
   "id": "ebc4b65f-b126-4240-bbe9-e56be5656152",
   "metadata": {},
   "source": [
    "### 3.2. Estimate the mitotic peak and the delay for each video."
   ]
  },
  {
   "cell_type": "code",
   "execution_count": null,
   "id": "17d03a37-78e2-4ebc-b706-636db5172714",
   "metadata": {},
   "outputs": [],
   "source": [
    "# If you stored the data in a previous session, you can load it again as follows:\n",
    "data = pd.read_csv(os.path.join(output_path, \"normalised_mitosis_counting.csv\"))\n",
    "# Only the smooth data is used here to reduce the impact of outliers and noise in the detections.\n",
    "data = data.loc[lambda data: data[\"processing\"]=='Averaged-kernel5']\n",
    "# Indicate the variable for which the peak is estimated\n",
    "plot_y_var = \"Number of cells\"  #\"Cell percentage\"\n",
    "# Quantify temporal peaks of mitosis\n",
    "data_peaks = quantify_peaks(data,\n",
    "                            plot_y_var,\n",
    "                            reference_category=\"0 jcm2\",\n",
    "                            reference_variable=\"Subcategory-02\",)\n",
    "\n",
    "\n",
    "\n",
    "## Rename the columns to get the proper naming in the plots\n",
    "data_peaks = data_peaks.rename(columns={'peak_time': 'Mitotic rounding timepoint (min)', \n",
    "                            'delay_synchro': 'Delay w.r.t. synchronised cells (min)',\n",
    "                           'proportional_delay_synchro': 'Proportional delay w.r.t. synchronised cells'})"
   ]
  },
  {
   "cell_type": "markdown",
   "id": "8eaf3d8c-413d-40bb-a241-f3672b7a5fb2",
   "metadata": {},
   "source": [
    "#### 3.2.1. Plot the detected delays and mitotic peaks"
   ]
  },
  {
   "cell_type": "code",
   "execution_count": null,
   "id": "2fc31a34-0655-4def-8d34-a852c9fa6bd7",
   "metadata": {},
   "outputs": [],
   "source": [
    "x = 'Mitotic rounding timepoint (min)'\n",
    "graph_format = [\"png\", \"pdf\"] # \"pdf\"\n",
    "condition_var = \"Subcategory-02\"\n",
    "hue_order = ['0 jcm2', '0.6 jcm2', '6 jcm2','60 jcm2']\n",
    "#hue_order = [ 'Control-sync', 'Synchro', '06-widefield', '06-confocal']\n",
    "#hue_order = [ 'Control-sync', 'Synchro', '100ms', '01sec', '10sec']\n",
    "#hue_order = [ 'Synchro', 'MitoRed', 'MitoGreen', 'MitoRed_475', 'MitoGreen_475']\n",
    "columns = \"Subcategory-01\"\n",
    "wl_order = ['WL UV - high density', 'WL 475 - high density', 'WL 630 - high density']\n",
    "palette_colours_columns = ['#BC77F8', '#30C7A6', '#FF7848']\n",
    "\n",
    "for f in graph_format:        \n",
    "    # Plot all barplots together\n",
    "    name = f\"{x}.{f}\"# name we want to give to the plot\n",
    "    new_name = f\"barplot_all_{name}\"\n",
    "    \n",
    "    fig = plt.figure()\n",
    "    g = sns.catplot(\n",
    "        data_peaks, kind=\"bar\",\n",
    "        x=condition_var, y=x,\n",
    "        col=columns,\n",
    "        hue=columns,\n",
    "        hue_order = wl_order,\n",
    "        palette=palette_colours_columns,\n",
    "        order=hue_order, \n",
    "        errorbar=(\"ci\", 95),  capsize=.1,\n",
    "        col_order=wl_order\n",
    "    )\n",
    "    g.map_dataframe(sns.stripplot,\n",
    "            x=condition_var,\n",
    "            y=x,\n",
    "            order=hue_order, \n",
    "            jitter=True,\n",
    "            dodge=False,\n",
    "            marker='.',\n",
    "            color=\"k\",\n",
    "            alpha=0.9)\n",
    "    g.set_titles(\"{col_name}\")\n",
    "    g.savefig(os.path.join(output_path, \"plots\", new_name), format=f, transparent=True)\n",
    "    plt.show()\n",
    "\n",
    "print(\"The plots are stored in:\")\n",
    "print(f\"{os.path.join(output_path, 'plots')}\")"
   ]
  },
  {
   "cell_type": "markdown",
   "id": "3bdb0950-ee6e-4985-a68c-53b4a084af0f",
   "metadata": {},
   "source": [
    "## 4 Cell size dynamics\n",
    "\n",
    "Display the changes in the cell size distribution. There are some parameters that may change: \n",
    "- `density_ylim`: depending on the number of detections, the densities of the distributions can be higher or lower. It is set by default as `density_ylim=0.20`\n",
    "- `time_points`: a list displayed in minutes of the acquired timelapse. One can visualise as many points as desired. We set it to observe the mitotic, mitotic and post-mitotic distributions as `time_points = [32, 60, 92, 120]`\n",
    "- `time_limit`: What is the maximum timing for which these dynamics are displayed. We consider 2 hours enough to visualise the transitions from mother to daughter (`time_limit = 120`). These conditions could change on a case-by-case basis.\n",
    "- `reduced_hue`: List of conditions. Use it to display data from a smaller set of conditions."
   ]
  },
  {
   "cell_type": "code",
   "execution_count": null,
   "id": "9ea38966",
   "metadata": {},
   "outputs": [],
   "source": [
    "# If you stored the data in a previous session, you can load it again as follows:\n",
    "data = pd.read_csv(os.path.join(output_path, \"normalised_mitosis_counting.csv\"))\n",
    "\n",
    "# Control the order of the legend and the format to export the plots.\n",
    "# If the order is unknown, let it as huer_order=None\n",
    "condition = \"Subcategory-02\"\n",
    "hue_order = ['non-synchro-0 jcm2', '0 jcm2', '0.6 jcm2', '6 jcm2', '60 jcm2']\n",
    "hue_order = [ 'Control-sync', 'Synchro', '06-widefield', '06-confocal']\n",
    "#hue_order = ['Control-sync', 'Control-sync_475', 'Synchro', 'Synchro_475','MitoRed', 'MitoRed_475','MitoGreen', 'MitoGreen_475']\n",
    "hue_order = ['Synchro', '100ms', '01sec', '10sec']\n",
    "hue_order = [ 'Synchro', 'MitoRed', 'MitoGreen', 'MitoRed_475', 'MitoGreen_475']\n",
    "colours = [\"#BC77F8\", \"#99E3D7\", \"#FC9F30\", \"#FF4126\"]\n",
    "\n",
    "# Additional parameters\n",
    "density_ylim=0.20\n",
    "time_points = [32, 60, 92, 120]\n",
    "time_limit = 120\n",
    "reduced_hue = ['0 jcm2', '0.6 jcm2', '6 jcm2', '60 jcm2']\n",
    "reduced_hue = [ 'Control-sync', 'Synchro', '06-widefield', '06-confocal']\n",
    "reduced_hue = ['Control-sync', 'Control-sync_475', 'Synchro', 'Synchro_475','MitoRed', 'MitoRed_475','MitoGreen', 'MitoGreen_475']\n",
    "# Format to store the plots\n",
    "graph_format = ['png', 'pdf'] # 'pdf'\n",
    "\n",
    "for g in graph_format:\n",
    "    display.cell_size_dynamics(data, os.path.join(output_path, \"plots\"),\n",
    "                            condition_var=\"Subcategory-02\",\n",
    "                            x_label = \"Light dose [J/cm2]\",\n",
    "                            graph_format=g,\n",
    "                            hue_order=hue_order,\n",
    "                            palette=\"cool\",\n",
    "                            reduced_hue=reduced_hue,\n",
    "                            common_norm=False,\n",
    "                            time_limit=time_limit,\n",
    "                            time_points=time_points,\n",
    "                            time_colours=colours,\n",
    "                            orient=\"h\",\n",
    "                            density_ylim=density_ylim,\n",
    "                            xlim=50)\n",
    "print(\"All the new cell size data generated as well as the plots are stored in:\")\n",
    "print(f\"{os.path.join(output_path, 'plots')}\")"
   ]
  },
  {
   "cell_type": "markdown",
   "id": "2cd52a30-50c6-40bc-8242-cc610af4368c",
   "metadata": {},
   "source": [
    "## 5. Obtain basic statistics"
   ]
  },
  {
   "cell_type": "markdown",
   "id": "1ac68c03-3363-41ab-b4c9-52d59dc6cfc2",
   "metadata": {},
   "source": [
    "### Mean values"
   ]
  },
  {
   "cell_type": "code",
   "execution_count": null,
   "id": "e0cae25e-201b-41d3-ab3e-aa6b21e972c3",
   "metadata": {},
   "outputs": [],
   "source": [
    "data_peaks.groupby([\"Subcategory-01\", \"Subcategory-02\"]).mean()"
   ]
  },
  {
   "cell_type": "markdown",
   "id": "7c0638e5-d3d1-41ce-8548-15e43b4e2aca",
   "metadata": {},
   "source": [
    "### Standard deviation values"
   ]
  },
  {
   "cell_type": "code",
   "execution_count": null,
   "id": "aece41a1-0a0d-406e-ad66-677833bbcb92",
   "metadata": {},
   "outputs": [],
   "source": [
    "data_peaks.groupby([\"Subcategory-01\", \"Subcategory-02\"]).std()"
   ]
  },
  {
   "cell_type": "markdown",
   "id": "268dc6c2-f797-4522-a980-62a470105a4f",
   "metadata": {},
   "source": [
    "### Compute statistical tests\n",
    "\n",
    "- `df`: pandas DataFrame containing the data\n",
    "- `quantitative_column`: Name of the column containing the quantitative data to analyze\n",
    "- `main_grouping`: Name of the column defining the main groups\n",
    "- `subgrouping`: Name of the column defining the subgroups to compare\n",
    "- `test_type`: \n",
    "  - \"t-test\": When both groups are normally distributed and have equal variances.\n",
    "  - \"Welch's t-test\": When both groups are normally distributed and have unequal variances.\n",
    "  - \"Kolmogorov-Smirnov\": When at least one of the variables is not normally distributed. \n",
    "- `choose_statistical_test`: \n",
    "  - `\"Automatic\"` if you want to run an automatic testing based on assessed properties of the data distribution. \n",
    "  - `\"Manual\"` to manually indicate what test to run."
   ]
  },
  {
   "cell_type": "code",
   "execution_count": null,
   "id": "fa1f8f47-39ca-4366-9e37-558ecfa46a1c",
   "metadata": {},
   "outputs": [],
   "source": [
    "quantitative_column = 'Mitotic rounding timepoint (min)'\n",
    "main_grouping = 'Subcategory-01'\n",
    "subgrouping = 'Subcategory-02'\n",
    "test_type = \"Kolmogorov-Smirnov\"\n",
    "result = stats.perform_statistical_analysis(data_peaks,\n",
    "                                      quantitative_column,\n",
    "                                      main_grouping,\n",
    "                                      subgrouping,\n",
    "                                      test_type=\"Kolmogorov-Smirnov\",\n",
    "                                     choose_test=\"Manual\")\n",
    "stats.plot_data_distributions(data_peaks, quantitative_column, main_grouping, subgrouping)\n",
    "result"
   ]
  },
  {
   "cell_type": "code",
   "execution_count": null,
   "id": "3234d6f6-8275-41c8-b752-ae70d16dc273",
   "metadata": {},
   "outputs": [],
   "source": []
  }
 ],
 "metadata": {
  "kernelspec": {
   "display_name": "Python 3 (ipykernel)",
   "language": "python",
   "name": "python3"
  },
  "language_info": {
   "codemirror_mode": {
    "name": "ipython",
    "version": 3
   },
   "file_extension": ".py",
   "mimetype": "text/x-python",
   "name": "python",
   "nbconvert_exporter": "python",
   "pygments_lexer": "ipython3",
   "version": "3.10.0"
  }
 },
 "nbformat": 4,
 "nbformat_minor": 5
}

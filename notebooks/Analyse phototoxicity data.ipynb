{
 "cells": [
  {
   "cell_type": "markdown",
   "id": "290c3e96",
   "metadata": {},
   "source": [
    "# Assessent of mitosis-mediated phototoxicity temporal footprint\n",
    "\n",
    "The data is assumed to be organised in a folder as follows:\n",
    "\n",
    "   ```\n",
    "   Raw-images (folder)\n",
    "   |\n",
    "   |-Biological-replica-date-1 (folder)\n",
    "       |\n",
    "       |-- control-condition (folder)\n",
    "       |    |  file1.tif\n",
    "       |    |  file2.tif\n",
    "       |    |  ...\n",
    "       |\n",
    "       |-- condition1 (folder)\n",
    "       |    |  file1.tif\n",
    "       |    |  file2.tif\n",
    "       |    |  ...\n",
    "       |\n",
    "       |-- condition2 (folder)\n",
    "       |    |  file1.tif\n",
    "       |    |  file2.tif\n",
    "       |    |  ...\n",
    "    Masks (folder)\n",
    "    |\n",
    "    |--Biological-replica-date-1 (folder)\n",
    "           |\n",
    "           |-- control-condition (folder)\n",
    "           |    |  file1.tif\n",
    "           |    |  file2.tif\n",
    "           |    |  ...\n",
    "           |\n",
    "           |-- condition1 (folder)\n",
    "           |    |  file1.tif\n",
    "           |    |  file2.tif\n",
    "           |    |  ...\n",
    "           |\n",
    "           |-- condition2 (folder)\n",
    "           |    |  file1.tif\n",
    "           |    |  file2.tif\n",
    "           |    |  ...\n",
    "   ```"
   ]
  },
  {
   "cell_type": "code",
   "execution_count": null,
   "id": "25a16c8a",
   "metadata": {},
   "outputs": [],
   "source": []
  }
 ],
 "metadata": {
  "kernelspec": {
   "display_name": "Python 3 (ipykernel)",
   "language": "python",
   "name": "python3"
  },
  "language_info": {
   "codemirror_mode": {
    "name": "ipython",
    "version": 3
   },
   "file_extension": ".py",
   "mimetype": "text/x-python",
   "name": "python",
   "nbconvert_exporter": "python",
   "pygments_lexer": "ipython3",
   "version": "3.9.7"
  }
 },
 "nbformat": 4,
 "nbformat_minor": 5
}

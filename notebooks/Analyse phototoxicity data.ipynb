{
 "cells": [
  {
   "cell_type": "markdown",
   "id": "b279571e",
   "metadata": {},
   "source": [
    "# Assessent of mitosis-mediated phototoxicity temporal footprint\n",
    "\n",
    "This notebook assumes that you already processed the videos using StarDist or any other segmentation method. It expects `.tif` video files with the instance mask of each identified cell (*i.e.*, the mask of each cell has a different value). Tracking of the segmented cells is not needed.\n",
    "\n",
    "The data is assumed to be organised in a folder as follows:\n",
    "\n",
    "   ```\n",
    "   general_path:\n",
    "   \n",
    "   -Raw-images (folder)\n",
    "   |\n",
    "   |-Biological-replica-date-1 (folder)\n",
    "       |\n",
    "       |-- control-condition (folder)\n",
    "       |    |  file1.tif\n",
    "       |    |  file2.tif\n",
    "       |    |  ...\n",
    "       |\n",
    "       |-- condition1 (folder)\n",
    "       |    |  file1.tif\n",
    "       |    |  file2.tif\n",
    "       |    |  ...\n",
    "       |\n",
    "       |-- condition2 (folder)\n",
    "       |    |  file1.tif\n",
    "       |    |  file2.tif\n",
    "       |    |  ...\n",
    "    -Masks (folder)\n",
    "    |\n",
    "    |--Biological-replica-date-1 (folder)\n",
    "           |\n",
    "           |-- control-condition (folder)\n",
    "           |    |  file1.tif\n",
    "           |    |  file2.tif\n",
    "           |    |  ...\n",
    "           |\n",
    "           |-- condition1 (folder)\n",
    "           |    |  file1.tif\n",
    "           |    |  file2.tif\n",
    "           |    |  ...\n",
    "           |\n",
    "           |-- condition2 (folder)\n",
    "           |    |  file1.tif\n",
    "           |    |  file2.tif\n",
    "           |    |  ...\n",
    "   ```"
   ]
  },
  {
   "cell_type": "markdown",
   "id": "8238735b",
   "metadata": {},
   "source": [
    "## Import all the required dependencies"
   ]
  },
  {
   "cell_type": "code",
   "execution_count": 1,
   "id": "d014dac8",
   "metadata": {},
   "outputs": [],
   "source": [
    "import sys\n",
    "## Include the following lines to access the code in Python Console\n",
    "sys.path.append(\"/Users/esti/Documents/PROYECTOS/PHX/mitosis-mediated-phototoxic\")"
   ]
  },
  {
   "cell_type": "code",
   "execution_count": 2,
   "id": "c4063b6a",
   "metadata": {},
   "outputs": [
    {
     "ename": "ModuleNotFoundError",
     "evalue": "No module named 'utils'",
     "output_type": "error",
     "traceback": [
      "\u001b[0;31m---------------------------------------------------------------------------\u001b[0m",
      "\u001b[0;31mModuleNotFoundError\u001b[0m                       Traceback (most recent call last)",
      "Cell \u001b[0;32mIn[2], line 4\u001b[0m\n\u001b[1;32m      2\u001b[0m \u001b[38;5;28;01mimport\u001b[39;00m \u001b[38;5;21;01mnumpy\u001b[39;00m \u001b[38;5;28;01mas\u001b[39;00m \u001b[38;5;21;01mnp\u001b[39;00m\n\u001b[1;32m      3\u001b[0m \u001b[38;5;28;01mimport\u001b[39;00m \u001b[38;5;21;01mpandas\u001b[39;00m \u001b[38;5;28;01mas\u001b[39;00m \u001b[38;5;21;01mpd\u001b[39;00m\n\u001b[0;32m----> 4\u001b[0m \u001b[38;5;28;01mimport\u001b[39;00m \u001b[38;5;21;01mphotofitness\u001b[39;00m \u001b[38;5;28;01mas\u001b[39;00m \u001b[38;5;21;01mphts\u001b[39;00m\n\u001b[1;32m      5\u001b[0m \u001b[38;5;28;01mfrom\u001b[39;00m \u001b[38;5;21;01mphts\u001b[39;00m\u001b[38;5;21;01m.\u001b[39;00m\u001b[38;5;21;01mmitosis_counting\u001b[39;00m \u001b[38;5;28;01mimport\u001b[39;00m count_mitosis_all\n",
      "File \u001b[0;32m~/mambaforge/envs/photofitness/lib/python3.9/site-packages/photofitness/__init__.py:3\u001b[0m\n\u001b[1;32m      1\u001b[0m \u001b[38;5;28;01mfrom\u001b[39;00m \u001b[38;5;21;01m.\u001b[39;00m\u001b[38;5;21;01mversion\u001b[39;00m \u001b[38;5;28;01mimport\u001b[39;00m __version__\n\u001b[1;32m      2\u001b[0m \u001b[38;5;28;01mimport\u001b[39;00m \u001b[38;5;21;01manalysis\u001b[39;00m\n\u001b[0;32m----> 3\u001b[0m \u001b[38;5;28;01mimport\u001b[39;00m \u001b[38;5;21;01mutils\u001b[39;00m\n",
      "\u001b[0;31mModuleNotFoundError\u001b[0m: No module named 'utils'"
     ]
    }
   ],
   "source": [
    "import os\n",
    "import numpy as np\n",
    "import pandas as pd\n",
    "import photofitness as phts\n",
    "from phts.mitosis_counting import count_mitosis_all"
   ]
  },
  {
   "cell_type": "code",
   "execution_count": 4,
   "id": "96577a58",
   "metadata": {},
   "outputs": [
    {
     "ename": "ModuleNotFoundError",
     "evalue": "No module named 'display'",
     "output_type": "error",
     "traceback": [
      "\u001b[0;31m---------------------------------------------------------------------------\u001b[0m",
      "\u001b[0;31mModuleNotFoundError\u001b[0m                       Traceback (most recent call last)",
      "Cell \u001b[0;32mIn[4], line 1\u001b[0m\n\u001b[0;32m----> 1\u001b[0m \u001b[38;5;28;01mimport\u001b[39;00m \u001b[38;5;21;01mphotofitness\u001b[39;00m\u001b[38;5;21;01m.\u001b[39;00m\u001b[38;5;21;01mdisplay\u001b[39;00m \u001b[38;5;28;01mas\u001b[39;00m \u001b[38;5;21;01mds\u001b[39;00m\n\u001b[1;32m      2\u001b[0m ds\n",
      "File \u001b[0;32m~/mambaforge/envs/photofitness/lib/python3.9/site-packages/photofitness/__init__.py:3\u001b[0m\n\u001b[1;32m      1\u001b[0m \u001b[38;5;28;01mfrom\u001b[39;00m \u001b[38;5;21;01m.\u001b[39;00m\u001b[38;5;21;01mversion\u001b[39;00m \u001b[38;5;28;01mimport\u001b[39;00m __version__\n\u001b[1;32m      2\u001b[0m \u001b[38;5;28;01mimport\u001b[39;00m \u001b[38;5;21;01manalysis\u001b[39;00m\n\u001b[0;32m----> 3\u001b[0m \u001b[38;5;28;01mimport\u001b[39;00m \u001b[38;5;21;01mdisplay\u001b[39;00m\n\u001b[1;32m      4\u001b[0m \u001b[38;5;28;01mimport\u001b[39;00m \u001b[38;5;21;01mutils\u001b[39;00m\n",
      "\u001b[0;31mModuleNotFoundError\u001b[0m: No module named 'display'"
     ]
    }
   ],
   "source": [
    "import photofitness.display as ds\n",
    "ds"
   ]
  },
  {
   "cell_type": "markdown",
   "id": "e421f4a2",
   "metadata": {},
   "source": [
    "## Provide some input information"
   ]
  },
  {
   "cell_type": "code",
   "execution_count": null,
   "id": "e66a6cea",
   "metadata": {},
   "outputs": [],
   "source": [
    "general_path = \"/Users/esti/Documents/PROYECTOS/PHX/mitosis_mediated_data_itqb_3/CHO\"\n",
    "frame_rate = 4 # The time gap we will use to compute all the metrics\n",
    "output_path = \"/Users/esti/Documents/PROYECTOS/PHX/DOCS/MANUSCRIPT/code-output\"\n"
   ]
  },
  {
   "cell_type": "code",
   "execution_count": null,
   "id": "eb0132a5",
   "metadata": {},
   "outputs": [],
   "source": [
    "data = count_mitosis_all(main_path, frame_rate = frame_rate)\n",
    "# save the information\n",
    "data.to_csv(os.path.join(output_path, \"mitosis_counting.csv\"))"
   ]
  },
  {
   "cell_type": "code",
   "execution_count": null,
   "id": "9ea38966",
   "metadata": {},
   "outputs": [],
   "source": []
  }
 ],
 "metadata": {
  "kernelspec": {
   "display_name": "Python 3 (ipykernel)",
   "language": "python",
   "name": "python3"
  },
  "language_info": {
   "codemirror_mode": {
    "name": "ipython",
    "version": 3
   },
   "file_extension": ".py",
   "mimetype": "text/x-python",
   "name": "python",
   "nbconvert_exporter": "python",
   "pygments_lexer": "ipython3",
   "version": "3.9.7"
  }
 },
 "nbformat": 4,
 "nbformat_minor": 5
}

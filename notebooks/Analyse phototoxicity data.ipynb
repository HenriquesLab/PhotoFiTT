{
 "cells": [
  {
   "cell_type": "markdown",
   "id": "b279571e",
   "metadata": {},
   "source": [
    "# Assessent of mitosis-mediated phototoxicity temporal footprint\n",
    "\n",
    "This notebook assumes that you already processed the videos using StarDist or any other segmentation method. It expects `.tif` video files with the instance mask of each identified cell (*i.e.*, the mask of each cell has a different value). Tracking of the segmented cells is not needed.\n",
    "\n",
    "The data is assumed to be organised in a folders as follows. The Subcategories are the ones that the code uses to display the data. The labels will be identical to the folder name, so same conditions should always have the same folder name.\n",
    "\n",
    "   ```\n",
    "   general_path:\n",
    "   \n",
    "   -Raw-images (folder)\n",
    "    |\n",
    "    |--Biological-replica-date-1 (folder) [Subcaegory-00]\n",
    "        |\n",
    "        |--Cell density / UV Ligth / WL 475 light [Subcategory-01] \n",
    "           |\n",
    "           |-- control-condition (folder) [Subcategory-02] \n",
    "           |    |  file1.tif\n",
    "           |    |  file2.tif\n",
    "           |    |  ...\n",
    "           |\n",
    "           |-- condition1 (folder) [Subcategory-02] \n",
    "           |    |  file1.tif\n",
    "           |    |  file2.tif\n",
    "           |    |  ...\n",
    "           |\n",
    "           |-- condition2 (folder) [Subcategory-02] \n",
    "           |    |  file1.tif\n",
    "           |    |  file2.tif\n",
    "           |    |  ...\n",
    "        |\n",
    "        |--Cell density / UV Ligth / WL 475 light [Subcategory-01]\n",
    "        ...\n",
    "        \n",
    "    -Masks (folder)\n",
    "    |\n",
    "    |--Biological-replica-date-1 (folder) [Subcaegory-00]\n",
    "        |\n",
    "        |--Cell density / UV Ligth / WL 475 light [Subcategory-01] \n",
    "           |\n",
    "           |-- control-condition (folder) [Subcategory-02] \n",
    "           |    |  file1.tif\n",
    "           |    |  file2.tif\n",
    "           |    |  ...\n",
    "           |\n",
    "           |-- condition1 (folder) [Subcategory-02] \n",
    "           |    |  file1.tif\n",
    "           |    |  file2.tif\n",
    "           |    |  ...\n",
    "           |\n",
    "           |-- condition2 (folder) [Subcategory-02] \n",
    "           |    |  file1.tif\n",
    "           |    |  file2.tif\n",
    "           |    |  ...\n",
    "        |\n",
    "        |--Cell density / UV Ligth / WL 475 light [Subcategory-01]\n",
    "        ...\n",
    "   ```"
   ]
  },
  {
   "cell_type": "markdown",
   "id": "8238735b",
   "metadata": {},
   "source": [
    "## Import all the required dependencies"
   ]
  },
  {
   "cell_type": "code",
   "execution_count": null,
   "id": "d014dac8",
   "metadata": {},
   "outputs": [],
   "source": [
    "import sys\n",
    "## Include the following lines to access the code in Python Console\n",
    "sys.path.append(\"/Users/esti/Documents/PROYECTOS/PHX/mitosis-mediated-phototoxic\")"
   ]
  },
  {
   "cell_type": "code",
   "execution_count": null,
   "id": "c4063b6a",
   "metadata": {},
   "outputs": [],
   "source": [
    "import os\n",
    "import numpy as np\n",
    "import pandas as pd\n",
    "from photofitness.analysis import count_mitosis_all\n",
    "from photofitness.display import display_data_from_masks, plot_conditions"
   ]
  },
  {
   "cell_type": "markdown",
   "id": "e421f4a2",
   "metadata": {},
   "source": [
    "## Provide some input information"
   ]
  },
  {
   "cell_type": "code",
   "execution_count": null,
   "id": "e66a6cea",
   "metadata": {},
   "outputs": [],
   "source": [
    "masks_path = \"/Users/esti/Documents/PROYECTOS/PHX/mitosis_mediated_data_itqb_3/CHO/masks/scaled_1.5709_results/stardist_prob03\"\n",
    "frame_rate = 4 # The time gap we will use to compute all the metrics\n",
    "output_path = \"/Users/esti/Documents/PROYECTOS/PHX/DOCS/MANUSCRIPT/code-output\"\n"
   ]
  },
  {
   "cell_type": "markdown",
   "id": "7815e880",
   "metadata": {},
   "source": [
    "## Count the number of mitoses"
   ]
  },
  {
   "cell_type": "code",
   "execution_count": null,
   "id": "eb0132a5",
   "metadata": {},
   "outputs": [],
   "source": [
    "data = count_mitosis_all(masks_path, frame_rate = frame_rate)\n",
    "# save the information\n",
    "data.to_csv(os.path.join(output_path, \"mitosis_counting.csv\"))"
   ]
  },
  {
   "cell_type": "markdown",
   "id": "de53c952",
   "metadata": {},
   "source": [
    "## Display the results\n",
    "\n",
    "The next code will create a bunch of plots considering all the conditions and experimental replicas. By default, it will export the plots as .png, but you can also specify the `graph_format='png'` in the function.\n",
    "\n",
    "We will show afterwards how to plot this data for one single condition."
   ]
  },
  {
   "cell_type": "code",
   "execution_count": null,
   "id": "9ea38966",
   "metadata": {},
   "outputs": [],
   "source": [
    "# If you stored the data in a previous session, you can load it again as follows:\n",
    "path_data = \"/Users/esti/Documents/PROYECTOS/PHX/DOCS/MANUSCRIPT/code-output/data_mitosis_real.csv\"\n",
    "data = pd.read_csv(path_data)\n",
    "\n",
    "# Control the order of the legend and the format to export the plots.\n",
    "# If the order is unknown, let it as huer_order=None\n",
    "hue_order = ['Control-sync', 'Synchro', 'UV25ms', 'UV50ms', 'UV100ms', 'UV200ms', 'UV400ms', 'UV800ms',\n",
    "             'UV01sec', 'UV05sec', 'UV10sec', 'UV15sec', 'UV20sec', 'UV25sec'] \n",
    "graph_format = 'png'\n",
    "\n",
    "# Plot the data\n",
    "display_data_from_masks(data, output_path, frame_rate=frame_rate,\n",
    "                        graph_format=graph_format, hue_order=hue_order)"
   ]
  },
  {
   "cell_type": "markdown",
   "id": "fce6c3fa",
   "metadata": {},
   "source": [
    "### Plot all the experimental data for one single condition"
   ]
  },
  {
   "cell_type": "code",
   "execution_count": null,
   "id": "010a86f9",
   "metadata": {},
   "outputs": [],
   "source": [
    "## Information for the plot\n",
    "group = \"WL UV - high density\"\n",
    "data_g = data[data[\"Subcategory-01\"]==group].reset_index(drop=True)\n",
    "title = \"UV illumination\"\n",
    "condition = \"Subcategory-02\"\n",
    "y_var = \"mitosis\" # name of the variable to display in the plot.\n",
    "name = \"{0}_{1}.png\".format(group, y_var) # name we want to give to the plot\n",
    "hue_order = ['Control-sync', 'Synchro', 'UV25ms', 'UV50ms', 'UV100ms', 'UV200ms', 'UV400ms', 'UV800ms',\n",
    "             'UV01sec', 'UV05sec', 'UV10sec', 'UV15sec', 'UV20sec', 'UV25sec']\n",
    "plot_conditions(data_g, y_var, title, condition, output_path, name,\n",
    "                style_condition=\"processing\", hue_order=hue_order)"
   ]
  }
 ],
 "metadata": {
  "kernelspec": {
   "display_name": "Python 3 (ipykernel)",
   "language": "python",
   "name": "python3"
  },
  "language_info": {
   "codemirror_mode": {
    "name": "ipython",
    "version": 3
   },
   "file_extension": ".py",
   "mimetype": "text/x-python",
   "name": "python",
   "nbconvert_exporter": "python",
   "pygments_lexer": "ipython3",
   "version": "3.9.7"
  }
 },
 "nbformat": 4,
 "nbformat_minor": 5
}

{
 "cells": [
  {
   "cell_type": "markdown",
   "id": "a8d9d4b1",
   "metadata": {},
   "source": [
    "# Create mosaics with all the detected events.\n",
    "\n",
    "The data is assumed to be organised in a folder as follows:\n",
    "\n",
    "   ```\n",
    "   Raw-images (folder)\n",
    "   |\n",
    "   |-Biological-replica-date-1 (folder)\n",
    "       |\n",
    "       |-- control-condition (folder)\n",
    "       |    |  file1.tif\n",
    "       |    |  file2.tif\n",
    "       |    |  ...\n",
    "       |\n",
    "       |-- condition1 (folder)\n",
    "       |    |  file1.tif\n",
    "       |    |  file2.tif\n",
    "       |    |  ...\n",
    "       |\n",
    "       |-- condition2 (folder)\n",
    "       |    |  file1.tif\n",
    "       |    |  file2.tif\n",
    "       |    |  ...\n",
    "    Masks (folder)\n",
    "    |\n",
    "    |--Biological-replica-date-1 (folder)\n",
    "           |\n",
    "           |-- control-condition (folder)\n",
    "           |    |  file1.tif\n",
    "           |    |  file2.tif\n",
    "           |    |  ...\n",
    "           |\n",
    "           |-- condition1 (folder)\n",
    "           |    |  file1.tif\n",
    "           |    |  file2.tif\n",
    "           |    |  ...\n",
    "           |\n",
    "           |-- condition2 (folder)\n",
    "           |    |  file1.tif\n",
    "           |    |  file2.tif\n",
    "           |    |  ...\n",
    "   ```"
   ]
  },
  {
   "cell_type": "code",
   "execution_count": null,
   "id": "1e0604f2",
   "metadata": {},
   "outputs": [],
   "source": [
    "from photofitt.utils.display import build_mosaics\n",
    "import os\n",
    "\n",
    "import sys\n",
    "# path = sys.argv[1]\n",
    "# path2original = sys.argv[2]\n",
    "# output_path = sys.argv[3]\n",
    "\n",
    "path = \"/Users/esti/Documents/PROYECTOS/PHX/mitosis_mediated_data_itqb_3/masks/scaled_1.5709_results/stardist_prob03\"\n",
    "path2original = \"/Users/esti/Documents/PROYECTOS/PHX/mitosis_mediated_data_itqb_3/inputs/scaled_1.5709_results\"\n",
    "output_path = \"/Users/esti/Documents/PROYECTOS/PHX/mitosis_mediated_data_itqb_3/results/scaled_1.5709_results/stardist_prob03/\"\n",
    "\n",
    "if not os.path.exists(os.path.join(output_path, \"mosaics\")):\n",
    "    os.mkdir(os.path.join(output_path, \"mosaics\"))\n",
    "\n",
    "roundness = [0.0, 0.5, 0.85, 0.9, 0.95, 0.97]\n",
    "\n",
    "for r in roundness:\n",
    "    output_path_folder = os.path.join(output_path, \"mosaics\", \"mosaics_roundness_{}\".format(r))\n",
    "    build_mosaics(path, path2original, output_path_folder, min_roundness=r)"
   ]
  }
 ],
 "metadata": {
  "kernelspec": {
   "display_name": "Python 3 (ipykernel)",
   "language": "python",
   "name": "python3"
  },
  "language_info": {
   "codemirror_mode": {
    "name": "ipython",
    "version": 3
   },
   "file_extension": ".py",
   "mimetype": "text/x-python",
   "name": "python",
   "nbconvert_exporter": "python",
   "pygments_lexer": "ipython3",
   "version": "3.9.7"
  }
 },
 "nbformat": 4,
 "nbformat_minor": 5
}

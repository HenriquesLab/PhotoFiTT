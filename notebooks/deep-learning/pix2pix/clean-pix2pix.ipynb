{
 "cells": [
  {
   "cell_type": "code",
   "execution_count": null,
   "id": "d756de79",
   "metadata": {},
   "outputs": [],
   "source": [
    "\n",
    "\n",
    "\n",
    "Training_source_dir = \n",
    "Training_target_dir = \n",
    "\n",
    "if Use_Data_augmentation:\n",
    "    Training_source_dir = Training_source_augmented\n",
    "    Training_target_dir = Training_target_augmented\n",
    "\n",
    "if not Use_Data_augmentation:\n",
    "    Training_source_dir = Training_source\n",
    "    Training_target_dir = Training_target\n",
    "# --------------------- ------------------------------------------------\n",
    "\n",
    "print(\"Data preparation in progress\")\n",
    "\n",
    "if os.path.exists(model_path+'/'+model_name):\n",
    "    shutil.rmtree(model_path+'/'+model_name)\n",
    "os.makedirs(model_path+'/'+model_name)\n",
    "\n",
    "#--------------- Here we move the files to train A and train B ---------\n",
    "\n",
    "\n",
    "print('Copying training source data...')\n",
    "for f in tqdm(os.listdir(Training_source_dir)):\n",
    "    shutil.copyfile(Training_source_dir+\"/\"+f, TrainA_Folder+\"/\"+f)\n",
    "\n",
    "print('Copying training target data...')\n",
    "for f in tqdm(os.listdir(Training_target_dir)):\n",
    "    shutil.copyfile(Training_target_dir+\"/\"+f, TrainB_Folder+\"/\"+f)\n",
    "\n",
    "#---------------------------------------------------------------------\n",
    "\n",
    "#--------------- Here we combined A and B images---------\n",
    "os.chdir(pix2pix_code_dir)\n",
    "!python3 pytorch-CycleGAN-and-pix2pix/datasets/combine_A_and_B.py --fold_A \"$imageA_folder\" --fold_B \"$imageB_folder\" --fold_AB \"$imageAB_folder\"\n",
    "\n"
   ]
  }
 ],
 "metadata": {
  "kernelspec": {
   "display_name": "Python 3 (ipykernel)",
   "language": "python",
   "name": "python3"
  },
  "language_info": {
   "codemirror_mode": {
    "name": "ipython",
    "version": 3
   },
   "file_extension": ".py",
   "mimetype": "text/x-python",
   "name": "python",
   "nbconvert_exporter": "python",
   "pygments_lexer": "ipython3",
   "version": "3.10.12"
  }
 },
 "nbformat": 4,
 "nbformat_minor": 5
}

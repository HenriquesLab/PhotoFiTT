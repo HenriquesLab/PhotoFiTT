{
 "cells": [
  {
   "cell_type": "code",
   "execution_count": 29,
   "id": "ef865a37-33e1-4afe-a020-afbaf42c60c8",
   "metadata": {},
   "outputs": [
    {
     "name": "stdout",
     "output_type": "stream",
     "text": [
      "['CHO_unsync_630-live-01-Scene-01-P10-A01', 'CHO_unsync_630-live-01-Scene-02-P7-A01', 'CHO_unsync_630-live-01-Scene-03-P3-A01', 'CHO_unsync_630-live-01-Scene-04-P6-A01', 'CHO_unsync_630-live-01-Scene-05-P8-A01', 'CHO_unsync_630-live-01-Scene-06-P9-A01', 'CHO_unsync_630-live-01-Scene-07-P4-A01', 'CHO_unsync_630-live-01-Scene-08-P5-A01', 'CHO_unsync_630-live-01-Scene-09-P2-A01', 'CHO_unsync_630-live-01-Scene-10-P1-A01', 'CHO_unsync_630-live-01-Scene-11-P1-A02', 'CHO_unsync_630-live-01-Scene-12-P4-A02', 'CHO_unsync_630-live-01-Scene-14-P2-A02', 'CHO_unsync_630-live-01-Scene-15-P8-A02', 'CHO_unsync_630-live-01-Scene-16-P6-A02', 'CHO_unsync_630-live-01-Scene-17-P7-A02', 'CHO_unsync_630-live-01-Scene-18-P5-A02', 'CHO_unsync_630-live-01-Scene-19-P9-A02', 'CHO_unsync_630-live-01-Scene-20-P10-A02', 'CHO_unsync_630-live-01-Scene-21-P2-A03', 'CHO_unsync_630-live-01-Scene-22-P9-A03', 'CHO_unsync_630-live-01-Scene-23-P7-A03', 'CHO_unsync_630-live-01-Scene-24-P6-A03', 'CHO_unsync_630-live-01-Scene-26-P8-A03', 'CHO_unsync_630-live-01-Scene-27-P3-A03', 'CHO_unsync_630-live-01-Scene-28-P10-A03', 'CHO_unsync_630-live-01-Scene-29-P4-A03', 'CHO_unsync_630-live-01-Scene-30-P1-A03', 'CHO_unsync_630-live-01-Scene-31-P8-A04', 'CHO_unsync_630-live-01-Scene-32-P3-A04', 'CHO_unsync_630-live-01-Scene-33-P6-A04', 'CHO_unsync_630-live-01-Scene-34-P2-A04', 'CHO_unsync_630-live-01-Scene-35-P7-A04', 'CHO_unsync_630-live-01-Scene-13-P3-A02', 'CHO_unsync_630-live-01-Scene-25-P5-A03', 'CHO_unsync_630-live-01-Scene-36-P10-A04', 'CHO_unsync_630-live-01-Scene-37-P9-A04', 'CHO_unsync_630-live-01-Scene-60-P7-B03', 'CHO_unsync_630-live-01-Scene-38-P1-A04', 'CHO_unsync_630-live-01-Scene-48-P4-B04']\n"
     ]
    },
    {
     "name": "stderr",
     "output_type": "stream",
     "text": [
      "/tmp/ipykernel_2053649/216695605.py:32: DeprecationWarning: <tifffile.imsave> is deprecated. Use tifffile.imwrite\n",
      "  imsave(os.path.join(path2real_reconstructions, f\"{v}.tif\"), real_video)\n",
      "/tmp/ipykernel_2053649/216695605.py:33: DeprecationWarning: <tifffile.imsave> is deprecated. Use tifffile.imwrite\n",
      "  imsave(os.path.join(path2fake_reconstructions, f\"{v}.tif\"), fake_video)\n"
     ]
    },
    {
     "name": "stdout",
     "output_type": "stream",
     "text": [
      "CHO_unsync_630-live-01-Scene-01-P10-A01 processed\n",
      "CHO_unsync_630-live-01-Scene-02-P7-A01 processed\n",
      "CHO_unsync_630-live-01-Scene-03-P3-A01 processed\n",
      "CHO_unsync_630-live-01-Scene-04-P6-A01 processed\n",
      "CHO_unsync_630-live-01-Scene-05-P8-A01 processed\n",
      "CHO_unsync_630-live-01-Scene-06-P9-A01 processed\n",
      "CHO_unsync_630-live-01-Scene-07-P4-A01 processed\n",
      "CHO_unsync_630-live-01-Scene-08-P5-A01 processed\n",
      "CHO_unsync_630-live-01-Scene-09-P2-A01 processed\n",
      "CHO_unsync_630-live-01-Scene-10-P1-A01 processed\n",
      "CHO_unsync_630-live-01-Scene-11-P1-A02 processed\n",
      "CHO_unsync_630-live-01-Scene-12-P4-A02 processed\n",
      "CHO_unsync_630-live-01-Scene-14-P2-A02 processed\n",
      "CHO_unsync_630-live-01-Scene-15-P8-A02 processed\n",
      "CHO_unsync_630-live-01-Scene-16-P6-A02 processed\n",
      "CHO_unsync_630-live-01-Scene-17-P7-A02 processed\n",
      "CHO_unsync_630-live-01-Scene-18-P5-A02 processed\n",
      "CHO_unsync_630-live-01-Scene-19-P9-A02 processed\n",
      "CHO_unsync_630-live-01-Scene-20-P10-A02 processed\n",
      "CHO_unsync_630-live-01-Scene-21-P2-A03 processed\n",
      "CHO_unsync_630-live-01-Scene-22-P9-A03 processed\n",
      "CHO_unsync_630-live-01-Scene-23-P7-A03 processed\n",
      "CHO_unsync_630-live-01-Scene-24-P6-A03 processed\n",
      "CHO_unsync_630-live-01-Scene-26-P8-A03 processed\n",
      "CHO_unsync_630-live-01-Scene-27-P3-A03 processed\n",
      "CHO_unsync_630-live-01-Scene-28-P10-A03 processed\n",
      "CHO_unsync_630-live-01-Scene-29-P4-A03 processed\n",
      "CHO_unsync_630-live-01-Scene-30-P1-A03 processed\n",
      "CHO_unsync_630-live-01-Scene-31-P8-A04 processed\n",
      "CHO_unsync_630-live-01-Scene-32-P3-A04 processed\n",
      "CHO_unsync_630-live-01-Scene-33-P6-A04 processed\n",
      "CHO_unsync_630-live-01-Scene-34-P2-A04 processed\n",
      "CHO_unsync_630-live-01-Scene-35-P7-A04 processed\n",
      "CHO_unsync_630-live-01-Scene-13-P3-A02 processed\n",
      "CHO_unsync_630-live-01-Scene-25-P5-A03 processed\n",
      "CHO_unsync_630-live-01-Scene-36-P10-A04 processed\n",
      "CHO_unsync_630-live-01-Scene-37-P9-A04 processed\n",
      "CHO_unsync_630-live-01-Scene-60-P7-B03 processed\n",
      "CHO_unsync_630-live-01-Scene-38-P1-A04 processed\n",
      "CHO_unsync_630-live-01-Scene-48-P4-B04 processed\n"
     ]
    }
   ],
   "source": [
    "import os\n",
    "import cv2\n",
    "import numpy as np \n",
    "from tifffile import imsave\n",
    "path2im = \"/home/ocb/HardDrive_4TB/EGM/MULTICHANNEL/RESULTS/PHX_DATA/20230627_unsync_630_day/Individual/pix2pix_cho_selectedz_nuclei_ph_contrast_resized1024_18012024/test_latest/\"\n",
    "\n",
    "path2real = os.path.join(path2im, \"images_real_A\")\n",
    "path2fake = os.path.join(path2im, \"images_fake_B\")\n",
    "\n",
    "files = os.listdir(path2real)\n",
    "\n",
    "video_names = [i.split(\"_0000_\")[0] for i in files if i.__contains__(\"_0000_\")]\n",
    "\n",
    "path2real_reconstructions = os.path.join(path2im, \"videos_real_A\")\n",
    "path2fake_reconstructions = os.path.join(path2im, \"videos_fake_B\")\n",
    "os.makedirs(path2real_reconstructions, exist_ok=True)\n",
    "os.makedirs(path2fake_reconstructions, exist_ok=True)\n",
    "for v in video_names:\n",
    "    video = [j for j in files if j.__contains__(v)]\n",
    "    video.sort()\n",
    "    real_video = []\n",
    "    fake_video = []\n",
    "    \n",
    "    for j in video:\n",
    "        real_video.append(cv2.imread(os.path.join(path2real, j))[...,0])\n",
    "        fake_filename = j.split(\"_real_A.png\")[0] + \"_fake_B.png\"\n",
    "        \n",
    "        fake_video.append(cv2.imread(os.path.join(path2fake, fake_filename))[...,0])\n",
    "    real_video = np.array(real_video)\n",
    "    fake_video = np.array(fake_video)\n",
    "    imsave(os.path.join(path2real_reconstructions, f\"{v}.tif\"), real_video)\n",
    "    imsave(os.path.join(path2fake_reconstructions, f\"{v}.tif\"), fake_video)\n",
    "    print(f\"{v} processed\")"
   ]
  },
  {
   "cell_type": "code",
   "execution_count": 30,
   "id": "7853dcab-19c4-4ddc-98f4-49424284bb32",
   "metadata": {},
   "outputs": [
    {
     "data": {
      "text/plain": [
       "True"
      ]
     },
     "execution_count": 30,
     "metadata": {},
     "output_type": "execute_result"
    }
   ],
   "source": [
    "folders = os.listdir(path2im)\n",
    "\"images_fake_B\" in folders"
   ]
  },
  {
   "cell_type": "code",
   "execution_count": 31,
   "id": "1c000f4d-4f4d-4c75-850d-b903d405b957",
   "metadata": {},
   "outputs": [
    {
     "data": {
      "text/plain": [
       "['.ipynb_checkpoints',\n",
       " 'images_fake_B',\n",
       " 'images_real_A',\n",
       " 'index.html',\n",
       " 'videos_fake_B',\n",
       " 'videos_real_A']"
      ]
     },
     "execution_count": 31,
     "metadata": {},
     "output_type": "execute_result"
    }
   ],
   "source": [
    "folders"
   ]
  }
 ],
 "metadata": {
  "kernelspec": {
   "display_name": "Python 3 (ipykernel)",
   "language": "python",
   "name": "python3"
  },
  "language_info": {
   "codemirror_mode": {
    "name": "ipython",
    "version": 3
   },
   "file_extension": ".py",
   "mimetype": "text/x-python",
   "name": "python",
   "nbconvert_exporter": "python",
   "pygments_lexer": "ipython3",
   "version": "3.10.12"
  }
 },
 "nbformat": 4,
 "nbformat_minor": 5
}

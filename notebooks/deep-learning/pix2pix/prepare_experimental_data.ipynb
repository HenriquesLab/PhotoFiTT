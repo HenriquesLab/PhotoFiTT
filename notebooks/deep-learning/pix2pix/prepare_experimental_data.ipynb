{
 "cells": [
  {
   "cell_type": "code",
   "execution_count": 8,
   "id": "f763e9e7-0bc6-4368-8218-72966e5fe94a",
   "metadata": {},
   "outputs": [],
   "source": [
    "import os\n",
    "import tifffile \n",
    "import shutil\n",
    "\n",
    "\n",
    "path = \"/home/ocb/HardDrive_4TB/EGM/MULTICHANNEL/DATA/MARIO/MERGED-CLEAN/HeLA\"\n",
    "folders = [\"train\", \"test\"]\n",
    "channels = [\"nuclei\", \"ph\"]\n",
    "\n",
    "for folder in folders:\n",
    "    files = os.path.join(path, \"selected-zplanes\", folder, \"membrane\")\n",
    "    \n",
    "    for c in channels: \n",
    "        os.makedirs(os.path.join(path, \"selected-zplanes\", folder, c), exist_ok=True)\n",
    "        \n",
    "    for f in os.listdir(files):\n",
    "        if f.endswith(\"tif\"):\n",
    "            for c in channels:\n",
    "                shutil.copyfile(os.path.join(path, folder, c, f),\n",
    "                                os.path.join(path, \"selected-zplanes\", folder, c, f))\n",
    "    "
   ]
  },
  {
   "cell_type": "code",
   "execution_count": 2,
   "id": "438cc37a-938f-4421-a5c1-c33feda410c5",
   "metadata": {
    "scrolled": true
   },
   "outputs": [],
   "source": [
    "import sys\n",
    "sys.path.append(\"/home/ocb/HardDrive_4TB/EGM/PHX/PhotoFITT/photofitt/\")\n",
    "from utils.normalisation import normalise_phc_timelapse\n",
    "import os\n",
    "import tifffile \n",
    "import shutil\n",
    "import numpy as np\n",
    "\n",
    "\n",
    "path = \"/home/ocb/HardDrive_4TB/EGM/MULTICHANNEL/DATA/MARIO/MERGED-CLEAN/HeLA/\"\n",
    "folders = [\"train\", \"test\"]\n",
    "\n",
    "for folder in folders:\n",
    "    os.makedirs(os.path.join(path, folder, \"ph_norm\"), exist_ok=True)\n",
    "    files = os.path.join(path, folder, \"ph\")\n",
    "    for f in os.listdir(files):\n",
    "        if f.endswith(\"tif\"):\n",
    "            im = tifffile.imread(os.path.join(path, folder, \"ph\", f))\n",
    "            im = normalise_phc_timelapse(im, keep_mean=False)\n",
    "            im = (2**16)*(im-im.min())/(im.max()-im.min())\n",
    "            tifffile.imwrite(os.path.join(path, folder, \"ph_norm\", f), np.uint16(im))"
   ]
  },
  {
   "cell_type": "code",
   "execution_count": 1,
   "id": "b8d47ce7-646f-4935-a523-499794188c1f",
   "metadata": {},
   "outputs": [],
   "source": [
    "import os\n",
    "import tifffile \n",
    "import numpy as np\n",
    "\n",
    "\n",
    "path = \"/home/ocb/HardDrive_4TB/EGM/MULTICHANNEL/DATA/MARIO/MERGED-CLEAN/HeLA/\"\n",
    "folders = [\"train\", \"test\"]\n",
    "channels = [\"nuclei\", \"ph\", \"membrane\"]\n",
    "for folder in folders:\n",
    "    for c in channels:\n",
    "        files = os.path.join(path, folder, c)\n",
    "        for f in os.listdir(files):\n",
    "            if f.endswith(\"tif\"):\n",
    "                im = tifffile.imread(os.path.join(path, folder, c, f))\n",
    "                im = im[:1200, :1200]\n",
    "                tifffile.imwrite(os.path.join(path, folder, c, f), im)"
   ]
  }
 ],
 "metadata": {
  "kernelspec": {
   "display_name": "Python 3 (ipykernel)",
   "language": "python",
   "name": "python3"
  },
  "language_info": {
   "codemirror_mode": {
    "name": "ipython",
    "version": 3
   },
   "file_extension": ".py",
   "mimetype": "text/x-python",
   "name": "python",
   "nbconvert_exporter": "python",
   "pygments_lexer": "ipython3",
   "version": "3.10.12"
  }
 },
 "nbformat": 4,
 "nbformat_minor": 5
}

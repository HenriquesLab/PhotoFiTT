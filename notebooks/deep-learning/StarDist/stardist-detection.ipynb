{
 "cells": [
  {
   "cell_type": "code",
   "execution_count": null,
   "id": "7c8f7e21",
   "metadata": {},
   "outputs": [],
   "source": [
    "import os\n",
    "from stardist.models import StarDist2D \n",
    "from stardist import random_label_cmap\n",
    "from tifffile import imread, imsave\n",
    "from csbdeep.utils import normalize\n",
    "import cv2\n",
    "from skimage import img_as_float32, img_as_ubyte\n",
    "import pandas as pd\n",
    "import numpy as np\n",
    "\n",
    "def segment_stack(path, model):\n",
    "    timelapse = imread(path)\n",
    "    # normalize channels independently\n",
    "    axis_norm = (0,1) \n",
    "    timelapse = normalize(timelapse, 1,99.8, axis=(0,)+tuple(1+np.array(axis_norm)))\n",
    "    n_timepoint = timelapse.shape[0]\n",
    "    prediction_stack = []\n",
    "\n",
    "    for t in range(n_timepoint):\n",
    "        labels, polygons = model.predict_instances(timelapse[t])      \n",
    "        prediction_stack.append(labels)\n",
    "    prediction_stack = np.array(prediction_stack)\n",
    "    \n",
    "    return(prediction_stack)\n",
    "\n",
    "                \n",
    "                \n",
    "def process_folder(input_path, output_path, model):\n",
    "    folders = os.listdir(input_path)\n",
    "    os.makedirs(output_path, exist_ok=True)\n",
    "    for f in folders:\n",
    "        print(os.path.join(input_path, f))\n",
    "        if f[0] != '.':\n",
    "            if not f.__contains__('.'):\n",
    "                os.makedirs(os.path.join(output_path, f), exist_ok=True)\n",
    "                process_folder(os.path.join(input_path, f), os.path.join(output_path, f), model)\n",
    "            elif f.__contains__('.tif'):\n",
    "                mask = segment_stack(os.path.join(input_path, f), model)\n",
    "                imsave(os.path.join(output_path, f), mask.astype(np.uint16))"
   ]
  },
  {
   "cell_type": "code",
   "execution_count": null,
   "id": "87281921",
   "metadata": {
    "scrolled": false
   },
   "outputs": [],
   "source": [
    "\n",
    "input_path = \"/media/ocb/EGM/PHX/DATA/DOWNSAMPLE/CHO-UNSYNCH/\"\n",
    "output_path = \"/media/ocb/EGM/PHX/DATA/MASKS/CHO-UNSYNCH/\"\n",
    "\n",
    "Prediction_model_folder = \"/home/ocb/Documents/EGM/PHX/STARDIST-MODELS/STARDIST-BRIGHTFIELD-27082022\" #@param {type:\"string\"}\n",
    "#Here we find the loaded model name and parent path\n",
    "Prediction_model_name = os.path.basename(Prediction_model_folder)\n",
    "Prediction_model_path = os.path.dirname(Prediction_model_folder)\n",
    "\n",
    "model = StarDist2D(None, name = Prediction_model_name, basedir = Prediction_model_path)\n",
    "\n",
    "process_folder(input_path, output_path, model)\n",
    "\n"
   ]
  },
  {
   "cell_type": "code",
   "execution_count": null,
   "id": "b527bce6",
   "metadata": {},
   "outputs": [],
   "source": []
  }
 ],
 "metadata": {
  "kernelspec": {
   "display_name": "Python 3 (ipykernel)",
   "language": "python",
   "name": "python3"
  },
  "language_info": {
   "codemirror_mode": {
    "name": "ipython",
    "version": 3
   },
   "file_extension": ".py",
   "mimetype": "text/x-python",
   "name": "python",
   "nbconvert_exporter": "python",
   "pygments_lexer": "ipython3",
   "version": "3.8.16"
  }
 },
 "nbformat": 4,
 "nbformat_minor": 5
}
